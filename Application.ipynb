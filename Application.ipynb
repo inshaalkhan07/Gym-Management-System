{
 "cells": [
  {
   "cell_type": "code",
   "execution_count": 44,
   "id": "2a6c0091",
   "metadata": {},
   "outputs": [
    {
     "name": "stdout",
     "output_type": "stream",
     "text": [
      "Requirement already satisfied: mysql-connector-python in ./opt/anaconda3/lib/python3.9/site-packages (8.0.31)\n",
      "Requirement already satisfied: protobuf<=3.20.1,>=3.11.0 in ./opt/anaconda3/lib/python3.9/site-packages (from mysql-connector-python) (3.19.1)\n",
      "Note: you may need to restart the kernel to use updated packages.\n"
     ]
    }
   ],
   "source": [
    "# Install MySQL Connector Python Module\n",
    "%pip install mysql-connector-python"
   ]
  },
  {
   "cell_type": "code",
   "execution_count": 45,
   "id": "6a0eff0f",
   "metadata": {},
   "outputs": [],
   "source": [
    "# Importing the warning library to ignore all warnings upon compilation\n",
    "import warnings\n",
    "warnings.filterwarnings('ignore')"
   ]
  },
  {
   "cell_type": "code",
   "execution_count": 46,
   "id": "85a47333",
   "metadata": {},
   "outputs": [],
   "source": [
    "# Importing all the required libraries for connecting to the database and performing various visualizations\n",
    "import os\n",
    "import mysql.connector\n",
    "import pandas as pd\n",
    "import numpy as np\n",
    "import matplotlib.pyplot as plt\n",
    "import seaborn as sns\n",
    "import plotly.express as px\n",
    "import plotly.graph_objects as go\n",
    "%matplotlib inline"
   ]
  },
  {
   "cell_type": "code",
   "execution_count": 47,
   "id": "c74da28e",
   "metadata": {},
   "outputs": [],
   "source": [
    "# Connecting to the database \n",
    "connection = mysql.connector.connect(host = 'localhost', \n",
    "                                    user = 'root',\n",
    "                                    passwd = 'tigertiger',\n",
    "                                    db = 'DMA_Project',\n",
    "                                    auth_plugin = 'mysql_native_password')"
   ]
  },
  {
   "cell_type": "code",
   "execution_count": 48,
   "id": "a93d1b15",
   "metadata": {},
   "outputs": [
    {
     "data": {
      "text/plain": [
       "<mysql.connector.connection.MySQLConnection at 0x7fdd6c7fd790>"
      ]
     },
     "execution_count": 48,
     "metadata": {},
     "output_type": "execute_result"
    }
   ],
   "source": [
    "# Printing the connection variable\n",
    "connection"
   ]
  },
  {
   "cell_type": "code",
   "execution_count": 49,
   "id": "f8b7b9ef",
   "metadata": {},
   "outputs": [],
   "source": [
    "# Show the tables in the database\n",
    "list_of_tables = pd.read_sql_query('SHOW TABLES FROM DMA_PROJECT', connection)"
   ]
  },
  {
   "cell_type": "code",
   "execution_count": 50,
   "id": "0f63ae2f",
   "metadata": {},
   "outputs": [
    {
     "data": {
      "text/html": [
       "<div>\n",
       "<style scoped>\n",
       "    .dataframe tbody tr th:only-of-type {\n",
       "        vertical-align: middle;\n",
       "    }\n",
       "\n",
       "    .dataframe tbody tr th {\n",
       "        vertical-align: top;\n",
       "    }\n",
       "\n",
       "    .dataframe thead th {\n",
       "        text-align: right;\n",
       "    }\n",
       "</style>\n",
       "<table border=\"1\" class=\"dataframe\">\n",
       "  <thead>\n",
       "    <tr style=\"text-align: right;\">\n",
       "      <th></th>\n",
       "      <th>Tables_in_dma_project</th>\n",
       "    </tr>\n",
       "  </thead>\n",
       "  <tbody>\n",
       "    <tr>\n",
       "      <th>0</th>\n",
       "      <td>EQUIPMENT_SET</td>\n",
       "    </tr>\n",
       "    <tr>\n",
       "      <th>1</th>\n",
       "      <td>FINANCE_DEPARTMENT</td>\n",
       "    </tr>\n",
       "    <tr>\n",
       "      <th>2</th>\n",
       "      <td>LOCKER</td>\n",
       "    </tr>\n",
       "    <tr>\n",
       "      <th>3</th>\n",
       "      <td>manager</td>\n",
       "    </tr>\n",
       "    <tr>\n",
       "      <th>4</th>\n",
       "      <td>member</td>\n",
       "    </tr>\n",
       "    <tr>\n",
       "      <th>5</th>\n",
       "      <td>nutritionist</td>\n",
       "    </tr>\n",
       "    <tr>\n",
       "      <th>6</th>\n",
       "      <td>personal_trainer</td>\n",
       "    </tr>\n",
       "  </tbody>\n",
       "</table>\n",
       "</div>"
      ],
      "text/plain": [
       "  Tables_in_dma_project\n",
       "0         EQUIPMENT_SET\n",
       "1    FINANCE_DEPARTMENT\n",
       "2                LOCKER\n",
       "3               manager\n",
       "4                member\n",
       "5          nutritionist\n",
       "6      personal_trainer"
      ]
     },
     "execution_count": 50,
     "metadata": {},
     "output_type": "execute_result"
    }
   ],
   "source": [
    "list_of_tables"
   ]
  },
  {
   "cell_type": "code",
   "execution_count": 51,
   "id": "ae1808cd",
   "metadata": {},
   "outputs": [],
   "source": [
    "# Query 1 - Display member ID, member name, member phone number, member email and their corresponding personal trainer details such as their name, phone number and email\n",
    "\n",
    "query_1 = pd.read_sql_query('select m.Mem_ID, m.Mem_Name, m.Mem_PhoneNumber, m.Mem_Email, pt.PT_Name, pt.PT_PhoneNumber, pt.PT_Email from member m INNER JOIN personal_trainer pt on m.PT_ID = pt.PT_ID order by Mem_ID asc', connection)"
   ]
  },
  {
   "cell_type": "code",
   "execution_count": 52,
   "id": "37a6cb46",
   "metadata": {},
   "outputs": [
    {
     "data": {
      "text/html": [
       "<div>\n",
       "<style scoped>\n",
       "    .dataframe tbody tr th:only-of-type {\n",
       "        vertical-align: middle;\n",
       "    }\n",
       "\n",
       "    .dataframe tbody tr th {\n",
       "        vertical-align: top;\n",
       "    }\n",
       "\n",
       "    .dataframe thead th {\n",
       "        text-align: right;\n",
       "    }\n",
       "</style>\n",
       "<table border=\"1\" class=\"dataframe\">\n",
       "  <thead>\n",
       "    <tr style=\"text-align: right;\">\n",
       "      <th></th>\n",
       "      <th>Mem_ID</th>\n",
       "      <th>Mem_Name</th>\n",
       "      <th>Mem_PhoneNumber</th>\n",
       "      <th>Mem_Email</th>\n",
       "      <th>PT_Name</th>\n",
       "      <th>PT_PhoneNumber</th>\n",
       "      <th>PT_Email</th>\n",
       "    </tr>\n",
       "  </thead>\n",
       "  <tbody>\n",
       "    <tr>\n",
       "      <th>0</th>\n",
       "      <td>701</td>\n",
       "      <td>Averil Madonna</td>\n",
       "      <td>214-193-2961</td>\n",
       "      <td>amadonna10@webeden.com</td>\n",
       "      <td>Kelley Towson</td>\n",
       "      <td>116-183-7518</td>\n",
       "      <td>ktowsonr@globo.com</td>\n",
       "    </tr>\n",
       "    <tr>\n",
       "      <th>1</th>\n",
       "      <td>702</td>\n",
       "      <td>Merci Smaile</td>\n",
       "      <td>237-521-8026</td>\n",
       "      <td>msmaile11@google.fr</td>\n",
       "      <td>Xenos Loughlan</td>\n",
       "      <td>323-784-8680</td>\n",
       "      <td>xloughlanl@google.co.jp</td>\n",
       "    </tr>\n",
       "    <tr>\n",
       "      <th>2</th>\n",
       "      <td>703</td>\n",
       "      <td>Lexis Canero</td>\n",
       "      <td>578-568-4892</td>\n",
       "      <td>lcanero12@com.com</td>\n",
       "      <td>Goldina Rainford</td>\n",
       "      <td>128-336-2863</td>\n",
       "      <td>grainfordq@mayoclinic.com</td>\n",
       "    </tr>\n",
       "    <tr>\n",
       "      <th>3</th>\n",
       "      <td>704</td>\n",
       "      <td>Carolina Frondt</td>\n",
       "      <td>690-613-8933</td>\n",
       "      <td>cfrondt13@cargocollective.com</td>\n",
       "      <td>Garland Ryce</td>\n",
       "      <td>688-631-5689</td>\n",
       "      <td>gryceo@bigcartel.com</td>\n",
       "    </tr>\n",
       "    <tr>\n",
       "      <th>4</th>\n",
       "      <td>706</td>\n",
       "      <td>Marinna Errigo</td>\n",
       "      <td>888-369-4487</td>\n",
       "      <td>merrigo15@plala.or.jp</td>\n",
       "      <td>Garland Ryce</td>\n",
       "      <td>688-631-5689</td>\n",
       "      <td>gryceo@bigcartel.com</td>\n",
       "    </tr>\n",
       "    <tr>\n",
       "      <th>5</th>\n",
       "      <td>707</td>\n",
       "      <td>Morey Lillecrop</td>\n",
       "      <td>809-628-5336</td>\n",
       "      <td>mlillecrop16@answers.com</td>\n",
       "      <td>Marten Mariette</td>\n",
       "      <td>939-934-1709</td>\n",
       "      <td>mmariettem@buzzfeed.com</td>\n",
       "    </tr>\n",
       "    <tr>\n",
       "      <th>6</th>\n",
       "      <td>710</td>\n",
       "      <td>Quinn Andrasch</td>\n",
       "      <td>381-691-1916</td>\n",
       "      <td>qandrasch19@seesaa.net</td>\n",
       "      <td>Charissa Smee</td>\n",
       "      <td>687-194-9115</td>\n",
       "      <td>csmeen@oracle.com</td>\n",
       "    </tr>\n",
       "    <tr>\n",
       "      <th>7</th>\n",
       "      <td>711</td>\n",
       "      <td>Fionnula Villaret</td>\n",
       "      <td>851-133-9439</td>\n",
       "      <td>fvillareta@sogou.com</td>\n",
       "      <td>Kristen Henriques</td>\n",
       "      <td>983-990-0027</td>\n",
       "      <td>khenriques2@answers.com</td>\n",
       "    </tr>\n",
       "    <tr>\n",
       "      <th>8</th>\n",
       "      <td>712</td>\n",
       "      <td>Johannah Connold</td>\n",
       "      <td>868-462-1349</td>\n",
       "      <td>jconnoldb@twitpic.com</td>\n",
       "      <td>Cynthia Tabourier</td>\n",
       "      <td>299-654-7252</td>\n",
       "      <td>ctabourier8@mysql.com</td>\n",
       "    </tr>\n",
       "    <tr>\n",
       "      <th>9</th>\n",
       "      <td>713</td>\n",
       "      <td>Erena McCurrie</td>\n",
       "      <td>335-558-3188</td>\n",
       "      <td>emccurriec@gov.uk</td>\n",
       "      <td>Sandro Cogdon</td>\n",
       "      <td>385-570-8687</td>\n",
       "      <td>scogdon5@canalblog.com</td>\n",
       "    </tr>\n",
       "    <tr>\n",
       "      <th>10</th>\n",
       "      <td>714</td>\n",
       "      <td>Clifford Troctor</td>\n",
       "      <td>448-403-7140</td>\n",
       "      <td>ctroctord@intel.com</td>\n",
       "      <td>Kelley Towson</td>\n",
       "      <td>116-183-7518</td>\n",
       "      <td>ktowsonr@globo.com</td>\n",
       "    </tr>\n",
       "    <tr>\n",
       "      <th>11</th>\n",
       "      <td>715</td>\n",
       "      <td>Malvina Ahren</td>\n",
       "      <td>318-306-0425</td>\n",
       "      <td>mahrene@wufoo.com</td>\n",
       "      <td>Othilie Dodsley</td>\n",
       "      <td>151-737-0636</td>\n",
       "      <td>ododsley4@mail.ru</td>\n",
       "    </tr>\n",
       "    <tr>\n",
       "      <th>12</th>\n",
       "      <td>716</td>\n",
       "      <td>Inger Hulburt</td>\n",
       "      <td>327-216-5759</td>\n",
       "      <td>ihulburtf@nytimes.com</td>\n",
       "      <td>Xenos Loughlan</td>\n",
       "      <td>323-784-8680</td>\n",
       "      <td>xloughlanl@google.co.jp</td>\n",
       "    </tr>\n",
       "    <tr>\n",
       "      <th>13</th>\n",
       "      <td>717</td>\n",
       "      <td>Jareb Rummer</td>\n",
       "      <td>116-150-6836</td>\n",
       "      <td>jrummerg@sitemeter.com</td>\n",
       "      <td>Brook Caldron</td>\n",
       "      <td>315-185-7097</td>\n",
       "      <td>bcaldron7@netvibes.com</td>\n",
       "    </tr>\n",
       "    <tr>\n",
       "      <th>14</th>\n",
       "      <td>718</td>\n",
       "      <td>Annie Blacksell</td>\n",
       "      <td>121-435-9649</td>\n",
       "      <td>ablacksellh@wikia.com</td>\n",
       "      <td>Meredithe Kyrkeman</td>\n",
       "      <td>888-702-4561</td>\n",
       "      <td>mkyrkeman1@exblog.jp</td>\n",
       "    </tr>\n",
       "    <tr>\n",
       "      <th>15</th>\n",
       "      <td>719</td>\n",
       "      <td>Dorthy Gilchriest</td>\n",
       "      <td>587-835-6824</td>\n",
       "      <td>dgilchriesti@storify.com</td>\n",
       "      <td>Kelley Towson</td>\n",
       "      <td>116-183-7518</td>\n",
       "      <td>ktowsonr@globo.com</td>\n",
       "    </tr>\n",
       "    <tr>\n",
       "      <th>16</th>\n",
       "      <td>720</td>\n",
       "      <td>Mollie Sealey</td>\n",
       "      <td>764-802-3078</td>\n",
       "      <td>msealeyj@weebly.com</td>\n",
       "      <td>Uta Phelipeaux</td>\n",
       "      <td>195-256-4879</td>\n",
       "      <td>uphelipeaux6@pagesperso-orange.fr</td>\n",
       "    </tr>\n",
       "    <tr>\n",
       "      <th>17</th>\n",
       "      <td>721</td>\n",
       "      <td>Petey Pottle</td>\n",
       "      <td>356-123-0944</td>\n",
       "      <td>ppottlek@about.com</td>\n",
       "      <td>Xenos Loughlan</td>\n",
       "      <td>323-784-8680</td>\n",
       "      <td>xloughlanl@google.co.jp</td>\n",
       "    </tr>\n",
       "    <tr>\n",
       "      <th>18</th>\n",
       "      <td>722</td>\n",
       "      <td>Timmy Sellick</td>\n",
       "      <td>863-511-0940</td>\n",
       "      <td>tsellickl@clickbank.net</td>\n",
       "      <td>Garland Ryce</td>\n",
       "      <td>688-631-5689</td>\n",
       "      <td>gryceo@bigcartel.com</td>\n",
       "    </tr>\n",
       "    <tr>\n",
       "      <th>19</th>\n",
       "      <td>723</td>\n",
       "      <td>Carey Dangerfield</td>\n",
       "      <td>893-694-2594</td>\n",
       "      <td>cdangerfieldm@theguardian.com</td>\n",
       "      <td>Vick Waddie</td>\n",
       "      <td>454-272-4416</td>\n",
       "      <td>vwaddie0@ameblo.jp</td>\n",
       "    </tr>\n",
       "    <tr>\n",
       "      <th>20</th>\n",
       "      <td>724</td>\n",
       "      <td>Jammie Celli</td>\n",
       "      <td>601-361-0776</td>\n",
       "      <td>jcellin@is.gd</td>\n",
       "      <td>Othilie Dodsley</td>\n",
       "      <td>151-737-0636</td>\n",
       "      <td>ododsley4@mail.ru</td>\n",
       "    </tr>\n",
       "    <tr>\n",
       "      <th>21</th>\n",
       "      <td>725</td>\n",
       "      <td>Loleta Barthelmes</td>\n",
       "      <td>300-901-3070</td>\n",
       "      <td>lbarthelmeso@umich.edu</td>\n",
       "      <td>Marten Mariette</td>\n",
       "      <td>939-934-1709</td>\n",
       "      <td>mmariettem@buzzfeed.com</td>\n",
       "    </tr>\n",
       "    <tr>\n",
       "      <th>22</th>\n",
       "      <td>726</td>\n",
       "      <td>Brynna Mulheron</td>\n",
       "      <td>320-741-8266</td>\n",
       "      <td>bmulheronp@wordpress.com</td>\n",
       "      <td>Marten Mariette</td>\n",
       "      <td>939-934-1709</td>\n",
       "      <td>mmariettem@buzzfeed.com</td>\n",
       "    </tr>\n",
       "    <tr>\n",
       "      <th>23</th>\n",
       "      <td>727</td>\n",
       "      <td>Anica Biesterfeld</td>\n",
       "      <td>848-833-5352</td>\n",
       "      <td>abiesterfeldq@house.gov</td>\n",
       "      <td>Marten Mariette</td>\n",
       "      <td>939-934-1709</td>\n",
       "      <td>mmariettem@buzzfeed.com</td>\n",
       "    </tr>\n",
       "    <tr>\n",
       "      <th>24</th>\n",
       "      <td>728</td>\n",
       "      <td>Daphna Bollom</td>\n",
       "      <td>360-118-1082</td>\n",
       "      <td>dbollomr@tamu.edu</td>\n",
       "      <td>June Dillintone</td>\n",
       "      <td>876-577-5104</td>\n",
       "      <td>jdillintone3@wired.com</td>\n",
       "    </tr>\n",
       "    <tr>\n",
       "      <th>25</th>\n",
       "      <td>729</td>\n",
       "      <td>Waite Frost</td>\n",
       "      <td>619-287-1488</td>\n",
       "      <td>wfrosts@tripadvisor.com</td>\n",
       "      <td>Vick Waddie</td>\n",
       "      <td>454-272-4416</td>\n",
       "      <td>vwaddie0@ameblo.jp</td>\n",
       "    </tr>\n",
       "    <tr>\n",
       "      <th>26</th>\n",
       "      <td>730</td>\n",
       "      <td>Micheal Unwins</td>\n",
       "      <td>460-858-1290</td>\n",
       "      <td>munwinst@china.com.cn</td>\n",
       "      <td>Othilie Dodsley</td>\n",
       "      <td>151-737-0636</td>\n",
       "      <td>ododsley4@mail.ru</td>\n",
       "    </tr>\n",
       "    <tr>\n",
       "      <th>27</th>\n",
       "      <td>731</td>\n",
       "      <td>Christie Christou</td>\n",
       "      <td>512-828-6989</td>\n",
       "      <td>cchristouu@ask.com</td>\n",
       "      <td>Meredithe Kyrkeman</td>\n",
       "      <td>888-702-4561</td>\n",
       "      <td>mkyrkeman1@exblog.jp</td>\n",
       "    </tr>\n",
       "    <tr>\n",
       "      <th>28</th>\n",
       "      <td>732</td>\n",
       "      <td>Alberik Joseff</td>\n",
       "      <td>172-894-9880</td>\n",
       "      <td>ajoseffv@slashdot.org</td>\n",
       "      <td>Brook Caldron</td>\n",
       "      <td>315-185-7097</td>\n",
       "      <td>bcaldron7@netvibes.com</td>\n",
       "    </tr>\n",
       "    <tr>\n",
       "      <th>29</th>\n",
       "      <td>733</td>\n",
       "      <td>Terencio Collinwood</td>\n",
       "      <td>595-968-8426</td>\n",
       "      <td>tcollinwoodw@netscape.com</td>\n",
       "      <td>Kristen Henriques</td>\n",
       "      <td>983-990-0027</td>\n",
       "      <td>khenriques2@answers.com</td>\n",
       "    </tr>\n",
       "    <tr>\n",
       "      <th>30</th>\n",
       "      <td>734</td>\n",
       "      <td>Templeton Nettles</td>\n",
       "      <td>863-570-3209</td>\n",
       "      <td>tnettlesx@google.co.jp</td>\n",
       "      <td>Garland Ryce</td>\n",
       "      <td>688-631-5689</td>\n",
       "      <td>gryceo@bigcartel.com</td>\n",
       "    </tr>\n",
       "    <tr>\n",
       "      <th>31</th>\n",
       "      <td>735</td>\n",
       "      <td>Doro Rothert</td>\n",
       "      <td>902-940-8307</td>\n",
       "      <td>drotherty@buzzfeed.com</td>\n",
       "      <td>June Dillintone</td>\n",
       "      <td>876-577-5104</td>\n",
       "      <td>jdillintone3@wired.com</td>\n",
       "    </tr>\n",
       "    <tr>\n",
       "      <th>32</th>\n",
       "      <td>736</td>\n",
       "      <td>Selene Yitzhakov</td>\n",
       "      <td>436-466-5502</td>\n",
       "      <td>syitzhakovz@boston.com</td>\n",
       "      <td>Goldina Rainford</td>\n",
       "      <td>128-336-2863</td>\n",
       "      <td>grainfordq@mayoclinic.com</td>\n",
       "    </tr>\n",
       "    <tr>\n",
       "      <th>33</th>\n",
       "      <td>737</td>\n",
       "      <td>Neely Tuson</td>\n",
       "      <td>586-385-6952</td>\n",
       "      <td>ntuson10@apple.com</td>\n",
       "      <td>Uta Phelipeaux</td>\n",
       "      <td>195-256-4879</td>\n",
       "      <td>uphelipeaux6@pagesperso-orange.fr</td>\n",
       "    </tr>\n",
       "    <tr>\n",
       "      <th>34</th>\n",
       "      <td>738</td>\n",
       "      <td>Neala Schoffel</td>\n",
       "      <td>137-431-7356</td>\n",
       "      <td>nschoffel11@newsvine.com</td>\n",
       "      <td>Charissa Smee</td>\n",
       "      <td>687-194-9115</td>\n",
       "      <td>csmeen@oracle.com</td>\n",
       "    </tr>\n",
       "    <tr>\n",
       "      <th>35</th>\n",
       "      <td>739</td>\n",
       "      <td>Vivyan Attwell</td>\n",
       "      <td>927-575-6777</td>\n",
       "      <td>vattwell12@nbcnews.com</td>\n",
       "      <td>Cynthia Tabourier</td>\n",
       "      <td>299-654-7252</td>\n",
       "      <td>ctabourier8@mysql.com</td>\n",
       "    </tr>\n",
       "    <tr>\n",
       "      <th>36</th>\n",
       "      <td>740</td>\n",
       "      <td>Shalne Cowill</td>\n",
       "      <td>199-689-4445</td>\n",
       "      <td>scowill13@etsy.com</td>\n",
       "      <td>Vick Waddie</td>\n",
       "      <td>454-272-4416</td>\n",
       "      <td>vwaddie0@ameblo.jp</td>\n",
       "    </tr>\n",
       "    <tr>\n",
       "      <th>37</th>\n",
       "      <td>741</td>\n",
       "      <td>Curtice Leverage</td>\n",
       "      <td>130-457-8462</td>\n",
       "      <td>cleverage14@washington.edu</td>\n",
       "      <td>Kelley Towson</td>\n",
       "      <td>116-183-7518</td>\n",
       "      <td>ktowsonr@globo.com</td>\n",
       "    </tr>\n",
       "    <tr>\n",
       "      <th>38</th>\n",
       "      <td>742</td>\n",
       "      <td>L;urette Johnsson</td>\n",
       "      <td>755-110-3527</td>\n",
       "      <td>ljohnsson15@cyberchimps.com</td>\n",
       "      <td>Vick Waddie</td>\n",
       "      <td>454-272-4416</td>\n",
       "      <td>vwaddie0@ameblo.jp</td>\n",
       "    </tr>\n",
       "    <tr>\n",
       "      <th>39</th>\n",
       "      <td>743</td>\n",
       "      <td>Kassandra Gounet</td>\n",
       "      <td>998-824-2419</td>\n",
       "      <td>kgounet16@mail.ru</td>\n",
       "      <td>Brook Caldron</td>\n",
       "      <td>315-185-7097</td>\n",
       "      <td>bcaldron7@netvibes.com</td>\n",
       "    </tr>\n",
       "    <tr>\n",
       "      <th>40</th>\n",
       "      <td>744</td>\n",
       "      <td>Tyrone Mattei</td>\n",
       "      <td>305-444-5709</td>\n",
       "      <td>tmattei17@flickr.com</td>\n",
       "      <td>Marten Mariette</td>\n",
       "      <td>939-934-1709</td>\n",
       "      <td>mmariettem@buzzfeed.com</td>\n",
       "    </tr>\n",
       "    <tr>\n",
       "      <th>41</th>\n",
       "      <td>745</td>\n",
       "      <td>Doyle Tortoishell</td>\n",
       "      <td>170-322-2048</td>\n",
       "      <td>dtortoishell18@youtube.com</td>\n",
       "      <td>Uta Phelipeaux</td>\n",
       "      <td>195-256-4879</td>\n",
       "      <td>uphelipeaux6@pagesperso-orange.fr</td>\n",
       "    </tr>\n",
       "    <tr>\n",
       "      <th>42</th>\n",
       "      <td>746</td>\n",
       "      <td>Lovell Tappington</td>\n",
       "      <td>352-365-2354</td>\n",
       "      <td>ltappington19@tiny.cc</td>\n",
       "      <td>Charissa Smee</td>\n",
       "      <td>687-194-9115</td>\n",
       "      <td>csmeen@oracle.com</td>\n",
       "    </tr>\n",
       "    <tr>\n",
       "      <th>43</th>\n",
       "      <td>747</td>\n",
       "      <td>Burlie Painter</td>\n",
       "      <td>612-875-9807</td>\n",
       "      <td>bpainter1a@typepad.com</td>\n",
       "      <td>Charissa Smee</td>\n",
       "      <td>687-194-9115</td>\n",
       "      <td>csmeen@oracle.com</td>\n",
       "    </tr>\n",
       "    <tr>\n",
       "      <th>44</th>\n",
       "      <td>748</td>\n",
       "      <td>Livvy Mowsdill</td>\n",
       "      <td>737-792-1577</td>\n",
       "      <td>lmowsdill1b@seattletimes.com</td>\n",
       "      <td>Uta Phelipeaux</td>\n",
       "      <td>195-256-4879</td>\n",
       "      <td>uphelipeaux6@pagesperso-orange.fr</td>\n",
       "    </tr>\n",
       "    <tr>\n",
       "      <th>45</th>\n",
       "      <td>749</td>\n",
       "      <td>Padriac Syred</td>\n",
       "      <td>506-335-2706</td>\n",
       "      <td>psyred1c@163.com</td>\n",
       "      <td>Cynthia Tabourier</td>\n",
       "      <td>299-654-7252</td>\n",
       "      <td>ctabourier8@mysql.com</td>\n",
       "    </tr>\n",
       "    <tr>\n",
       "      <th>46</th>\n",
       "      <td>750</td>\n",
       "      <td>Haze Sebert</td>\n",
       "      <td>846-735-8360</td>\n",
       "      <td>hsebert1d@java.com</td>\n",
       "      <td>Sandro Cogdon</td>\n",
       "      <td>385-570-8687</td>\n",
       "      <td>scogdon5@canalblog.com</td>\n",
       "    </tr>\n",
       "    <tr>\n",
       "      <th>47</th>\n",
       "      <td>751</td>\n",
       "      <td>May Aland</td>\n",
       "      <td>818-607-1818</td>\n",
       "      <td>maland1e@unicef.org</td>\n",
       "      <td>Vick Waddie</td>\n",
       "      <td>454-272-4416</td>\n",
       "      <td>vwaddie0@ameblo.jp</td>\n",
       "    </tr>\n",
       "    <tr>\n",
       "      <th>48</th>\n",
       "      <td>752</td>\n",
       "      <td>Warner Woolward</td>\n",
       "      <td>783-885-7459</td>\n",
       "      <td>wwoolward1f@google.com.hk</td>\n",
       "      <td>Kristen Henriques</td>\n",
       "      <td>983-990-0027</td>\n",
       "      <td>khenriques2@answers.com</td>\n",
       "    </tr>\n",
       "    <tr>\n",
       "      <th>49</th>\n",
       "      <td>753</td>\n",
       "      <td>Adolphus Bewley</td>\n",
       "      <td>847-465-0498</td>\n",
       "      <td>abewley1g@who.int</td>\n",
       "      <td>Uta Phelipeaux</td>\n",
       "      <td>195-256-4879</td>\n",
       "      <td>uphelipeaux6@pagesperso-orange.fr</td>\n",
       "    </tr>\n",
       "    <tr>\n",
       "      <th>50</th>\n",
       "      <td>754</td>\n",
       "      <td>Angelia Gibby</td>\n",
       "      <td>629-287-4016</td>\n",
       "      <td>agibby1h@deliciousdays.com</td>\n",
       "      <td>Vick Waddie</td>\n",
       "      <td>454-272-4416</td>\n",
       "      <td>vwaddie0@ameblo.jp</td>\n",
       "    </tr>\n",
       "    <tr>\n",
       "      <th>51</th>\n",
       "      <td>755</td>\n",
       "      <td>Norbert Fone</td>\n",
       "      <td>678-451-4780</td>\n",
       "      <td>nfone1i@hud.gov</td>\n",
       "      <td>Kristen Henriques</td>\n",
       "      <td>983-990-0027</td>\n",
       "      <td>khenriques2@answers.com</td>\n",
       "    </tr>\n",
       "    <tr>\n",
       "      <th>52</th>\n",
       "      <td>756</td>\n",
       "      <td>Pietrek McGauhy</td>\n",
       "      <td>378-762-2258</td>\n",
       "      <td>pmcgauhy1j@apple.com</td>\n",
       "      <td>Charissa Smee</td>\n",
       "      <td>687-194-9115</td>\n",
       "      <td>csmeen@oracle.com</td>\n",
       "    </tr>\n",
       "    <tr>\n",
       "      <th>53</th>\n",
       "      <td>757</td>\n",
       "      <td>Grady Kinvan</td>\n",
       "      <td>478-880-7642</td>\n",
       "      <td>gkinvan1k@mayoclinic.com</td>\n",
       "      <td>June Dillintone</td>\n",
       "      <td>876-577-5104</td>\n",
       "      <td>jdillintone3@wired.com</td>\n",
       "    </tr>\n",
       "    <tr>\n",
       "      <th>54</th>\n",
       "      <td>758</td>\n",
       "      <td>Keith Hencke</td>\n",
       "      <td>383-627-6117</td>\n",
       "      <td>khencke1l@e-recht24.de</td>\n",
       "      <td>Uta Phelipeaux</td>\n",
       "      <td>195-256-4879</td>\n",
       "      <td>uphelipeaux6@pagesperso-orange.fr</td>\n",
       "    </tr>\n",
       "    <tr>\n",
       "      <th>55</th>\n",
       "      <td>759</td>\n",
       "      <td>Jaymee Garshore</td>\n",
       "      <td>496-881-5643</td>\n",
       "      <td>jgarshore1m@photobucket.com</td>\n",
       "      <td>Goldina Rainford</td>\n",
       "      <td>128-336-2863</td>\n",
       "      <td>grainfordq@mayoclinic.com</td>\n",
       "    </tr>\n",
       "    <tr>\n",
       "      <th>56</th>\n",
       "      <td>760</td>\n",
       "      <td>Buckie Broggio</td>\n",
       "      <td>244-948-1657</td>\n",
       "      <td>bbroggio1n@sogou.com</td>\n",
       "      <td>June Dillintone</td>\n",
       "      <td>876-577-5104</td>\n",
       "      <td>jdillintone3@wired.com</td>\n",
       "    </tr>\n",
       "  </tbody>\n",
       "</table>\n",
       "</div>"
      ],
      "text/plain": [
       "    Mem_ID             Mem_Name Mem_PhoneNumber  \\\n",
       "0      701       Averil Madonna    214-193-2961   \n",
       "1      702         Merci Smaile    237-521-8026   \n",
       "2      703         Lexis Canero    578-568-4892   \n",
       "3      704      Carolina Frondt    690-613-8933   \n",
       "4      706       Marinna Errigo    888-369-4487   \n",
       "5      707      Morey Lillecrop    809-628-5336   \n",
       "6      710       Quinn Andrasch    381-691-1916   \n",
       "7      711    Fionnula Villaret    851-133-9439   \n",
       "8      712     Johannah Connold    868-462-1349   \n",
       "9      713       Erena McCurrie    335-558-3188   \n",
       "10     714     Clifford Troctor    448-403-7140   \n",
       "11     715        Malvina Ahren    318-306-0425   \n",
       "12     716        Inger Hulburt    327-216-5759   \n",
       "13     717         Jareb Rummer    116-150-6836   \n",
       "14     718      Annie Blacksell    121-435-9649   \n",
       "15     719    Dorthy Gilchriest    587-835-6824   \n",
       "16     720        Mollie Sealey    764-802-3078   \n",
       "17     721         Petey Pottle    356-123-0944   \n",
       "18     722        Timmy Sellick    863-511-0940   \n",
       "19     723    Carey Dangerfield    893-694-2594   \n",
       "20     724         Jammie Celli    601-361-0776   \n",
       "21     725    Loleta Barthelmes    300-901-3070   \n",
       "22     726      Brynna Mulheron    320-741-8266   \n",
       "23     727    Anica Biesterfeld    848-833-5352   \n",
       "24     728        Daphna Bollom    360-118-1082   \n",
       "25     729          Waite Frost    619-287-1488   \n",
       "26     730       Micheal Unwins    460-858-1290   \n",
       "27     731    Christie Christou    512-828-6989   \n",
       "28     732       Alberik Joseff    172-894-9880   \n",
       "29     733  Terencio Collinwood    595-968-8426   \n",
       "30     734    Templeton Nettles    863-570-3209   \n",
       "31     735         Doro Rothert    902-940-8307   \n",
       "32     736     Selene Yitzhakov    436-466-5502   \n",
       "33     737          Neely Tuson    586-385-6952   \n",
       "34     738       Neala Schoffel    137-431-7356   \n",
       "35     739       Vivyan Attwell    927-575-6777   \n",
       "36     740        Shalne Cowill    199-689-4445   \n",
       "37     741     Curtice Leverage    130-457-8462   \n",
       "38     742    L;urette Johnsson    755-110-3527   \n",
       "39     743     Kassandra Gounet    998-824-2419   \n",
       "40     744        Tyrone Mattei    305-444-5709   \n",
       "41     745    Doyle Tortoishell    170-322-2048   \n",
       "42     746    Lovell Tappington    352-365-2354   \n",
       "43     747       Burlie Painter    612-875-9807   \n",
       "44     748       Livvy Mowsdill    737-792-1577   \n",
       "45     749        Padriac Syred    506-335-2706   \n",
       "46     750          Haze Sebert    846-735-8360   \n",
       "47     751            May Aland    818-607-1818   \n",
       "48     752      Warner Woolward    783-885-7459   \n",
       "49     753      Adolphus Bewley    847-465-0498   \n",
       "50     754        Angelia Gibby    629-287-4016   \n",
       "51     755         Norbert Fone    678-451-4780   \n",
       "52     756      Pietrek McGauhy    378-762-2258   \n",
       "53     757         Grady Kinvan    478-880-7642   \n",
       "54     758         Keith Hencke    383-627-6117   \n",
       "55     759      Jaymee Garshore    496-881-5643   \n",
       "56     760       Buckie Broggio    244-948-1657   \n",
       "\n",
       "                        Mem_Email             PT_Name PT_PhoneNumber  \\\n",
       "0          amadonna10@webeden.com       Kelley Towson   116-183-7518   \n",
       "1             msmaile11@google.fr      Xenos Loughlan   323-784-8680   \n",
       "2               lcanero12@com.com    Goldina Rainford   128-336-2863   \n",
       "3   cfrondt13@cargocollective.com        Garland Ryce   688-631-5689   \n",
       "4           merrigo15@plala.or.jp        Garland Ryce   688-631-5689   \n",
       "5        mlillecrop16@answers.com     Marten Mariette   939-934-1709   \n",
       "6          qandrasch19@seesaa.net       Charissa Smee   687-194-9115   \n",
       "7            fvillareta@sogou.com   Kristen Henriques   983-990-0027   \n",
       "8           jconnoldb@twitpic.com   Cynthia Tabourier   299-654-7252   \n",
       "9               emccurriec@gov.uk       Sandro Cogdon   385-570-8687   \n",
       "10            ctroctord@intel.com       Kelley Towson   116-183-7518   \n",
       "11              mahrene@wufoo.com     Othilie Dodsley   151-737-0636   \n",
       "12          ihulburtf@nytimes.com      Xenos Loughlan   323-784-8680   \n",
       "13         jrummerg@sitemeter.com       Brook Caldron   315-185-7097   \n",
       "14          ablacksellh@wikia.com  Meredithe Kyrkeman   888-702-4561   \n",
       "15       dgilchriesti@storify.com       Kelley Towson   116-183-7518   \n",
       "16            msealeyj@weebly.com      Uta Phelipeaux   195-256-4879   \n",
       "17             ppottlek@about.com      Xenos Loughlan   323-784-8680   \n",
       "18        tsellickl@clickbank.net        Garland Ryce   688-631-5689   \n",
       "19  cdangerfieldm@theguardian.com         Vick Waddie   454-272-4416   \n",
       "20                  jcellin@is.gd     Othilie Dodsley   151-737-0636   \n",
       "21         lbarthelmeso@umich.edu     Marten Mariette   939-934-1709   \n",
       "22       bmulheronp@wordpress.com     Marten Mariette   939-934-1709   \n",
       "23        abiesterfeldq@house.gov     Marten Mariette   939-934-1709   \n",
       "24              dbollomr@tamu.edu     June Dillintone   876-577-5104   \n",
       "25        wfrosts@tripadvisor.com         Vick Waddie   454-272-4416   \n",
       "26          munwinst@china.com.cn     Othilie Dodsley   151-737-0636   \n",
       "27             cchristouu@ask.com  Meredithe Kyrkeman   888-702-4561   \n",
       "28          ajoseffv@slashdot.org       Brook Caldron   315-185-7097   \n",
       "29      tcollinwoodw@netscape.com   Kristen Henriques   983-990-0027   \n",
       "30         tnettlesx@google.co.jp        Garland Ryce   688-631-5689   \n",
       "31         drotherty@buzzfeed.com     June Dillintone   876-577-5104   \n",
       "32         syitzhakovz@boston.com    Goldina Rainford   128-336-2863   \n",
       "33             ntuson10@apple.com      Uta Phelipeaux   195-256-4879   \n",
       "34       nschoffel11@newsvine.com       Charissa Smee   687-194-9115   \n",
       "35         vattwell12@nbcnews.com   Cynthia Tabourier   299-654-7252   \n",
       "36             scowill13@etsy.com         Vick Waddie   454-272-4416   \n",
       "37     cleverage14@washington.edu       Kelley Towson   116-183-7518   \n",
       "38    ljohnsson15@cyberchimps.com         Vick Waddie   454-272-4416   \n",
       "39              kgounet16@mail.ru       Brook Caldron   315-185-7097   \n",
       "40           tmattei17@flickr.com     Marten Mariette   939-934-1709   \n",
       "41     dtortoishell18@youtube.com      Uta Phelipeaux   195-256-4879   \n",
       "42          ltappington19@tiny.cc       Charissa Smee   687-194-9115   \n",
       "43         bpainter1a@typepad.com       Charissa Smee   687-194-9115   \n",
       "44   lmowsdill1b@seattletimes.com      Uta Phelipeaux   195-256-4879   \n",
       "45               psyred1c@163.com   Cynthia Tabourier   299-654-7252   \n",
       "46             hsebert1d@java.com       Sandro Cogdon   385-570-8687   \n",
       "47            maland1e@unicef.org         Vick Waddie   454-272-4416   \n",
       "48      wwoolward1f@google.com.hk   Kristen Henriques   983-990-0027   \n",
       "49              abewley1g@who.int      Uta Phelipeaux   195-256-4879   \n",
       "50     agibby1h@deliciousdays.com         Vick Waddie   454-272-4416   \n",
       "51                nfone1i@hud.gov   Kristen Henriques   983-990-0027   \n",
       "52           pmcgauhy1j@apple.com       Charissa Smee   687-194-9115   \n",
       "53       gkinvan1k@mayoclinic.com     June Dillintone   876-577-5104   \n",
       "54         khencke1l@e-recht24.de      Uta Phelipeaux   195-256-4879   \n",
       "55    jgarshore1m@photobucket.com    Goldina Rainford   128-336-2863   \n",
       "56           bbroggio1n@sogou.com     June Dillintone   876-577-5104   \n",
       "\n",
       "                             PT_Email  \n",
       "0                  ktowsonr@globo.com  \n",
       "1             xloughlanl@google.co.jp  \n",
       "2           grainfordq@mayoclinic.com  \n",
       "3                gryceo@bigcartel.com  \n",
       "4                gryceo@bigcartel.com  \n",
       "5             mmariettem@buzzfeed.com  \n",
       "6                   csmeen@oracle.com  \n",
       "7             khenriques2@answers.com  \n",
       "8               ctabourier8@mysql.com  \n",
       "9              scogdon5@canalblog.com  \n",
       "10                 ktowsonr@globo.com  \n",
       "11                  ododsley4@mail.ru  \n",
       "12            xloughlanl@google.co.jp  \n",
       "13             bcaldron7@netvibes.com  \n",
       "14               mkyrkeman1@exblog.jp  \n",
       "15                 ktowsonr@globo.com  \n",
       "16  uphelipeaux6@pagesperso-orange.fr  \n",
       "17            xloughlanl@google.co.jp  \n",
       "18               gryceo@bigcartel.com  \n",
       "19                 vwaddie0@ameblo.jp  \n",
       "20                  ododsley4@mail.ru  \n",
       "21            mmariettem@buzzfeed.com  \n",
       "22            mmariettem@buzzfeed.com  \n",
       "23            mmariettem@buzzfeed.com  \n",
       "24             jdillintone3@wired.com  \n",
       "25                 vwaddie0@ameblo.jp  \n",
       "26                  ododsley4@mail.ru  \n",
       "27               mkyrkeman1@exblog.jp  \n",
       "28             bcaldron7@netvibes.com  \n",
       "29            khenriques2@answers.com  \n",
       "30               gryceo@bigcartel.com  \n",
       "31             jdillintone3@wired.com  \n",
       "32          grainfordq@mayoclinic.com  \n",
       "33  uphelipeaux6@pagesperso-orange.fr  \n",
       "34                  csmeen@oracle.com  \n",
       "35              ctabourier8@mysql.com  \n",
       "36                 vwaddie0@ameblo.jp  \n",
       "37                 ktowsonr@globo.com  \n",
       "38                 vwaddie0@ameblo.jp  \n",
       "39             bcaldron7@netvibes.com  \n",
       "40            mmariettem@buzzfeed.com  \n",
       "41  uphelipeaux6@pagesperso-orange.fr  \n",
       "42                  csmeen@oracle.com  \n",
       "43                  csmeen@oracle.com  \n",
       "44  uphelipeaux6@pagesperso-orange.fr  \n",
       "45              ctabourier8@mysql.com  \n",
       "46             scogdon5@canalblog.com  \n",
       "47                 vwaddie0@ameblo.jp  \n",
       "48            khenriques2@answers.com  \n",
       "49  uphelipeaux6@pagesperso-orange.fr  \n",
       "50                 vwaddie0@ameblo.jp  \n",
       "51            khenriques2@answers.com  \n",
       "52                  csmeen@oracle.com  \n",
       "53             jdillintone3@wired.com  \n",
       "54  uphelipeaux6@pagesperso-orange.fr  \n",
       "55          grainfordq@mayoclinic.com  \n",
       "56             jdillintone3@wired.com  "
      ]
     },
     "execution_count": 52,
     "metadata": {},
     "output_type": "execute_result"
    }
   ],
   "source": [
    "query_1"
   ]
  },
  {
   "cell_type": "code",
   "execution_count": 53,
   "id": "98c6447d",
   "metadata": {},
   "outputs": [],
   "source": [
    "# Query 2 - Display nutritionist ID, name and salary where salary is greater than average salary of all the nutritionists\n",
    "\n",
    "query_2 = pd.read_sql_query('select n1.N_ID, n1.N_Name, n1.N_salary from nutritionist n1 where n1.N_Salary > (select avg(n2.N_Salary) from nutritionist n2)', connection)"
   ]
  },
  {
   "cell_type": "code",
   "execution_count": 54,
   "id": "dfa94557",
   "metadata": {},
   "outputs": [
    {
     "data": {
      "text/html": [
       "<div>\n",
       "<style scoped>\n",
       "    .dataframe tbody tr th:only-of-type {\n",
       "        vertical-align: middle;\n",
       "    }\n",
       "\n",
       "    .dataframe tbody tr th {\n",
       "        vertical-align: top;\n",
       "    }\n",
       "\n",
       "    .dataframe thead th {\n",
       "        text-align: right;\n",
       "    }\n",
       "</style>\n",
       "<table border=\"1\" class=\"dataframe\">\n",
       "  <thead>\n",
       "    <tr style=\"text-align: right;\">\n",
       "      <th></th>\n",
       "      <th>N_ID</th>\n",
       "      <th>N_Name</th>\n",
       "      <th>N_salary</th>\n",
       "    </tr>\n",
       "  </thead>\n",
       "  <tbody>\n",
       "    <tr>\n",
       "      <th>0</th>\n",
       "      <td>202</td>\n",
       "      <td>Nolan Chafer</td>\n",
       "      <td>45500.5</td>\n",
       "    </tr>\n",
       "    <tr>\n",
       "      <th>1</th>\n",
       "      <td>203</td>\n",
       "      <td>Oralla Southwell</td>\n",
       "      <td>50000.0</td>\n",
       "    </tr>\n",
       "    <tr>\n",
       "      <th>2</th>\n",
       "      <td>208</td>\n",
       "      <td>Rosemary Gubbins</td>\n",
       "      <td>49002.9</td>\n",
       "    </tr>\n",
       "    <tr>\n",
       "      <th>3</th>\n",
       "      <td>211</td>\n",
       "      <td>Anthea Speke</td>\n",
       "      <td>49275.1</td>\n",
       "    </tr>\n",
       "    <tr>\n",
       "      <th>4</th>\n",
       "      <td>212</td>\n",
       "      <td>Rupert Bloodworthe</td>\n",
       "      <td>47359.0</td>\n",
       "    </tr>\n",
       "    <tr>\n",
       "      <th>5</th>\n",
       "      <td>213</td>\n",
       "      <td>Helli Fildery</td>\n",
       "      <td>46072.7</td>\n",
       "    </tr>\n",
       "  </tbody>\n",
       "</table>\n",
       "</div>"
      ],
      "text/plain": [
       "   N_ID              N_Name  N_salary\n",
       "0   202        Nolan Chafer   45500.5\n",
       "1   203    Oralla Southwell   50000.0\n",
       "2   208    Rosemary Gubbins   49002.9\n",
       "3   211        Anthea Speke   49275.1\n",
       "4   212  Rupert Bloodworthe   47359.0\n",
       "5   213       Helli Fildery   46072.7"
      ]
     },
     "execution_count": 54,
     "metadata": {},
     "output_type": "execute_result"
    }
   ],
   "source": [
    "query_2"
   ]
  },
  {
   "cell_type": "code",
   "execution_count": 55,
   "id": "cb98a6c6",
   "metadata": {},
   "outputs": [],
   "source": [
    "# Query 3 - Retrieve the finance department employee details like ID, name, phone number and email who collects fees from more than 5 members\n",
    "\n",
    "query_3 = pd.read_sql_query('select fd.FD_Emp_ID, fd.FD_Emp_Name, fd.FD_Emp_PhoneNumber, fd.FD_Emp_Email from FINANCE_DEPARTMENT fd where 5 < (select count(*) from member m where m.FD_Emp_ID = fd.FD_Emp_ID)', connection)"
   ]
  },
  {
   "cell_type": "code",
   "execution_count": 56,
   "id": "d38cfd75",
   "metadata": {},
   "outputs": [
    {
     "data": {
      "text/html": [
       "<div>\n",
       "<style scoped>\n",
       "    .dataframe tbody tr th:only-of-type {\n",
       "        vertical-align: middle;\n",
       "    }\n",
       "\n",
       "    .dataframe tbody tr th {\n",
       "        vertical-align: top;\n",
       "    }\n",
       "\n",
       "    .dataframe thead th {\n",
       "        text-align: right;\n",
       "    }\n",
       "</style>\n",
       "<table border=\"1\" class=\"dataframe\">\n",
       "  <thead>\n",
       "    <tr style=\"text-align: right;\">\n",
       "      <th></th>\n",
       "      <th>FD_Emp_ID</th>\n",
       "      <th>FD_Emp_Name</th>\n",
       "      <th>FD_Emp_PhoneNumber</th>\n",
       "      <th>FD_Emp_Email</th>\n",
       "    </tr>\n",
       "  </thead>\n",
       "  <tbody>\n",
       "    <tr>\n",
       "      <th>0</th>\n",
       "      <td>105</td>\n",
       "      <td>Madan Lal</td>\n",
       "      <td>333-555-8881</td>\n",
       "      <td>mlal143@lords.com</td>\n",
       "    </tr>\n",
       "    <tr>\n",
       "      <th>1</th>\n",
       "      <td>106</td>\n",
       "      <td>Vicky Donnovan</td>\n",
       "      <td>367-543-8121</td>\n",
       "      <td>donnovanvick@mysticfalls.com</td>\n",
       "    </tr>\n",
       "    <tr>\n",
       "      <th>2</th>\n",
       "      <td>107</td>\n",
       "      <td>Erlich Bachmann</td>\n",
       "      <td>412-754-3243</td>\n",
       "      <td>erlich@piedpier.com</td>\n",
       "    </tr>\n",
       "    <tr>\n",
       "      <th>3</th>\n",
       "      <td>108</td>\n",
       "      <td>Albie Morkel</td>\n",
       "      <td>332-545-5459</td>\n",
       "      <td>albiem34@csa.com</td>\n",
       "    </tr>\n",
       "    <tr>\n",
       "      <th>4</th>\n",
       "      <td>109</td>\n",
       "      <td>Tom Cruise</td>\n",
       "      <td>384-723-3448</td>\n",
       "      <td>cruisetommy56@hollywood.com</td>\n",
       "    </tr>\n",
       "  </tbody>\n",
       "</table>\n",
       "</div>"
      ],
      "text/plain": [
       "   FD_Emp_ID      FD_Emp_Name FD_Emp_PhoneNumber                  FD_Emp_Email\n",
       "0        105        Madan Lal       333-555-8881             mlal143@lords.com\n",
       "1        106   Vicky Donnovan       367-543-8121  donnovanvick@mysticfalls.com\n",
       "2        107  Erlich Bachmann       412-754-3243           erlich@piedpier.com\n",
       "3        108     Albie Morkel       332-545-5459              albiem34@csa.com\n",
       "4        109       Tom Cruise       384-723-3448   cruisetommy56@hollywood.com"
      ]
     },
     "execution_count": 56,
     "metadata": {},
     "output_type": "execute_result"
    }
   ],
   "source": [
    "query_3"
   ]
  },
  {
   "cell_type": "code",
   "execution_count": 57,
   "id": "1f9f3d90",
   "metadata": {},
   "outputs": [],
   "source": [
    "# Query 4 - Retrieve Name and ID of those managers who manage those nutritionists that give diet plans to members who pay membership fees more than 7500 \n",
    "\n",
    "query_4 = pd.read_sql_query('select distinct(m1.Mangr_ID), m1.Mangr_Name from Manager m1 INNER JOIN Nutritionist n on (m1.Mangr_ID=n.Mangr_ID) INNER JOIN MEMBER mem on n.N_ID=mem.N_ID where mem.Mem_Fees > \\'7500\\'', connection)"
   ]
  },
  {
   "cell_type": "code",
   "execution_count": 58,
   "id": "698e961a",
   "metadata": {},
   "outputs": [
    {
     "data": {
      "text/html": [
       "<div>\n",
       "<style scoped>\n",
       "    .dataframe tbody tr th:only-of-type {\n",
       "        vertical-align: middle;\n",
       "    }\n",
       "\n",
       "    .dataframe tbody tr th {\n",
       "        vertical-align: top;\n",
       "    }\n",
       "\n",
       "    .dataframe thead th {\n",
       "        text-align: right;\n",
       "    }\n",
       "</style>\n",
       "<table border=\"1\" class=\"dataframe\">\n",
       "  <thead>\n",
       "    <tr style=\"text-align: right;\">\n",
       "      <th></th>\n",
       "      <th>Mangr_ID</th>\n",
       "      <th>Mangr_Name</th>\n",
       "    </tr>\n",
       "  </thead>\n",
       "  <tbody>\n",
       "    <tr>\n",
       "      <th>0</th>\n",
       "      <td>4</td>\n",
       "      <td>Richard Perott</td>\n",
       "    </tr>\n",
       "    <tr>\n",
       "      <th>1</th>\n",
       "      <td>3</td>\n",
       "      <td>Zeke Halfacre</td>\n",
       "    </tr>\n",
       "    <tr>\n",
       "      <th>2</th>\n",
       "      <td>1</td>\n",
       "      <td>Kunal Shastri</td>\n",
       "    </tr>\n",
       "    <tr>\n",
       "      <th>3</th>\n",
       "      <td>5</td>\n",
       "      <td>Frank Van Merwe</td>\n",
       "    </tr>\n",
       "    <tr>\n",
       "      <th>4</th>\n",
       "      <td>6</td>\n",
       "      <td>Fred Klaasen</td>\n",
       "    </tr>\n",
       "    <tr>\n",
       "      <th>5</th>\n",
       "      <td>8</td>\n",
       "      <td>Bhaichung Bhutia</td>\n",
       "    </tr>\n",
       "    <tr>\n",
       "      <th>6</th>\n",
       "      <td>2</td>\n",
       "      <td>Byrom Alfwy</td>\n",
       "    </tr>\n",
       "    <tr>\n",
       "      <th>7</th>\n",
       "      <td>9</td>\n",
       "      <td>Gareth Bale</td>\n",
       "    </tr>\n",
       "    <tr>\n",
       "      <th>8</th>\n",
       "      <td>7</td>\n",
       "      <td>Jordan Pickford</td>\n",
       "    </tr>\n",
       "  </tbody>\n",
       "</table>\n",
       "</div>"
      ],
      "text/plain": [
       "   Mangr_ID        Mangr_Name\n",
       "0         4    Richard Perott\n",
       "1         3     Zeke Halfacre\n",
       "2         1     Kunal Shastri\n",
       "3         5   Frank Van Merwe\n",
       "4         6      Fred Klaasen\n",
       "5         8  Bhaichung Bhutia\n",
       "6         2       Byrom Alfwy\n",
       "7         9       Gareth Bale\n",
       "8         7   Jordan Pickford"
      ]
     },
     "execution_count": 58,
     "metadata": {},
     "output_type": "execute_result"
    }
   ],
   "source": [
    "query_4"
   ]
  },
  {
   "cell_type": "code",
   "execution_count": 59,
   "id": "91a7890d",
   "metadata": {},
   "outputs": [],
   "source": [
    "# Query 5 - Display the locker numbers used by members using EXISTS operator\n",
    "\n",
    "query_5 = pd.read_sql_query('select l.locker_id from locker l where EXISTS (select m.Mem_ID, m.Mem_Name from member m where m.Locker_ID = l.locker_id)', connection)"
   ]
  },
  {
   "cell_type": "code",
   "execution_count": 60,
   "id": "b9cd6e9d",
   "metadata": {},
   "outputs": [
    {
     "data": {
      "text/html": [
       "<div>\n",
       "<style scoped>\n",
       "    .dataframe tbody tr th:only-of-type {\n",
       "        vertical-align: middle;\n",
       "    }\n",
       "\n",
       "    .dataframe tbody tr th {\n",
       "        vertical-align: top;\n",
       "    }\n",
       "\n",
       "    .dataframe thead th {\n",
       "        text-align: right;\n",
       "    }\n",
       "</style>\n",
       "<table border=\"1\" class=\"dataframe\">\n",
       "  <thead>\n",
       "    <tr style=\"text-align: right;\">\n",
       "      <th></th>\n",
       "      <th>locker_id</th>\n",
       "    </tr>\n",
       "  </thead>\n",
       "  <tbody>\n",
       "    <tr>\n",
       "      <th>0</th>\n",
       "      <td>21</td>\n",
       "    </tr>\n",
       "    <tr>\n",
       "      <th>1</th>\n",
       "      <td>22</td>\n",
       "    </tr>\n",
       "    <tr>\n",
       "      <th>2</th>\n",
       "      <td>23</td>\n",
       "    </tr>\n",
       "    <tr>\n",
       "      <th>3</th>\n",
       "      <td>25</td>\n",
       "    </tr>\n",
       "    <tr>\n",
       "      <th>4</th>\n",
       "      <td>26</td>\n",
       "    </tr>\n",
       "    <tr>\n",
       "      <th>5</th>\n",
       "      <td>27</td>\n",
       "    </tr>\n",
       "    <tr>\n",
       "      <th>6</th>\n",
       "      <td>29</td>\n",
       "    </tr>\n",
       "    <tr>\n",
       "      <th>7</th>\n",
       "      <td>30</td>\n",
       "    </tr>\n",
       "    <tr>\n",
       "      <th>8</th>\n",
       "      <td>31</td>\n",
       "    </tr>\n",
       "    <tr>\n",
       "      <th>9</th>\n",
       "      <td>32</td>\n",
       "    </tr>\n",
       "    <tr>\n",
       "      <th>10</th>\n",
       "      <td>33</td>\n",
       "    </tr>\n",
       "    <tr>\n",
       "      <th>11</th>\n",
       "      <td>36</td>\n",
       "    </tr>\n",
       "    <tr>\n",
       "      <th>12</th>\n",
       "      <td>37</td>\n",
       "    </tr>\n",
       "    <tr>\n",
       "      <th>13</th>\n",
       "      <td>38</td>\n",
       "    </tr>\n",
       "    <tr>\n",
       "      <th>14</th>\n",
       "      <td>39</td>\n",
       "    </tr>\n",
       "    <tr>\n",
       "      <th>15</th>\n",
       "      <td>41</td>\n",
       "    </tr>\n",
       "    <tr>\n",
       "      <th>16</th>\n",
       "      <td>43</td>\n",
       "    </tr>\n",
       "    <tr>\n",
       "      <th>17</th>\n",
       "      <td>44</td>\n",
       "    </tr>\n",
       "    <tr>\n",
       "      <th>18</th>\n",
       "      <td>45</td>\n",
       "    </tr>\n",
       "    <tr>\n",
       "      <th>19</th>\n",
       "      <td>46</td>\n",
       "    </tr>\n",
       "    <tr>\n",
       "      <th>20</th>\n",
       "      <td>47</td>\n",
       "    </tr>\n",
       "    <tr>\n",
       "      <th>21</th>\n",
       "      <td>48</td>\n",
       "    </tr>\n",
       "    <tr>\n",
       "      <th>22</th>\n",
       "      <td>49</td>\n",
       "    </tr>\n",
       "    <tr>\n",
       "      <th>23</th>\n",
       "      <td>50</td>\n",
       "    </tr>\n",
       "    <tr>\n",
       "      <th>24</th>\n",
       "      <td>51</td>\n",
       "    </tr>\n",
       "    <tr>\n",
       "      <th>25</th>\n",
       "      <td>52</td>\n",
       "    </tr>\n",
       "    <tr>\n",
       "      <th>26</th>\n",
       "      <td>53</td>\n",
       "    </tr>\n",
       "    <tr>\n",
       "      <th>27</th>\n",
       "      <td>54</td>\n",
       "    </tr>\n",
       "    <tr>\n",
       "      <th>28</th>\n",
       "      <td>55</td>\n",
       "    </tr>\n",
       "    <tr>\n",
       "      <th>29</th>\n",
       "      <td>56</td>\n",
       "    </tr>\n",
       "    <tr>\n",
       "      <th>30</th>\n",
       "      <td>57</td>\n",
       "    </tr>\n",
       "    <tr>\n",
       "      <th>31</th>\n",
       "      <td>58</td>\n",
       "    </tr>\n",
       "    <tr>\n",
       "      <th>32</th>\n",
       "      <td>59</td>\n",
       "    </tr>\n",
       "    <tr>\n",
       "      <th>33</th>\n",
       "      <td>60</td>\n",
       "    </tr>\n",
       "    <tr>\n",
       "      <th>34</th>\n",
       "      <td>61</td>\n",
       "    </tr>\n",
       "    <tr>\n",
       "      <th>35</th>\n",
       "      <td>62</td>\n",
       "    </tr>\n",
       "    <tr>\n",
       "      <th>36</th>\n",
       "      <td>63</td>\n",
       "    </tr>\n",
       "    <tr>\n",
       "      <th>37</th>\n",
       "      <td>64</td>\n",
       "    </tr>\n",
       "    <tr>\n",
       "      <th>38</th>\n",
       "      <td>65</td>\n",
       "    </tr>\n",
       "    <tr>\n",
       "      <th>39</th>\n",
       "      <td>66</td>\n",
       "    </tr>\n",
       "    <tr>\n",
       "      <th>40</th>\n",
       "      <td>67</td>\n",
       "    </tr>\n",
       "    <tr>\n",
       "      <th>41</th>\n",
       "      <td>69</td>\n",
       "    </tr>\n",
       "    <tr>\n",
       "      <th>42</th>\n",
       "      <td>70</td>\n",
       "    </tr>\n",
       "  </tbody>\n",
       "</table>\n",
       "</div>"
      ],
      "text/plain": [
       "    locker_id\n",
       "0          21\n",
       "1          22\n",
       "2          23\n",
       "3          25\n",
       "4          26\n",
       "5          27\n",
       "6          29\n",
       "7          30\n",
       "8          31\n",
       "9          32\n",
       "10         33\n",
       "11         36\n",
       "12         37\n",
       "13         38\n",
       "14         39\n",
       "15         41\n",
       "16         43\n",
       "17         44\n",
       "18         45\n",
       "19         46\n",
       "20         47\n",
       "21         48\n",
       "22         49\n",
       "23         50\n",
       "24         51\n",
       "25         52\n",
       "26         53\n",
       "27         54\n",
       "28         55\n",
       "29         56\n",
       "30         57\n",
       "31         58\n",
       "32         59\n",
       "33         60\n",
       "34         61\n",
       "35         62\n",
       "36         63\n",
       "37         64\n",
       "38         65\n",
       "39         66\n",
       "40         67\n",
       "41         69\n",
       "42         70"
      ]
     },
     "execution_count": 60,
     "metadata": {},
     "output_type": "execute_result"
    }
   ],
   "source": [
    "query_5"
   ]
  },
  {
   "cell_type": "code",
   "execution_count": 62,
   "id": "0e987c37",
   "metadata": {},
   "outputs": [],
   "source": [
    "# Query 6 - Display member details like ID, Name, Phone Number, Email who use equipment set ID > 902 using ANY operator\n",
    "\n",
    "query_6 = pd.read_sql_query('select m.Mem_Id, m.Mem_Name, m.Mem_PhoneNumber, m.Mem_Email from member m where m.EquipmentSet_ID = ANY (select e.EquipmentSet_ID from Equipment_Set e where e.EquipmentSet_ID > 902)', connection) "
   ]
  },
  {
   "cell_type": "code",
   "execution_count": 63,
   "id": "5e077138",
   "metadata": {},
   "outputs": [
    {
     "data": {
      "text/html": [
       "<div>\n",
       "<style scoped>\n",
       "    .dataframe tbody tr th:only-of-type {\n",
       "        vertical-align: middle;\n",
       "    }\n",
       "\n",
       "    .dataframe tbody tr th {\n",
       "        vertical-align: top;\n",
       "    }\n",
       "\n",
       "    .dataframe thead th {\n",
       "        text-align: right;\n",
       "    }\n",
       "</style>\n",
       "<table border=\"1\" class=\"dataframe\">\n",
       "  <thead>\n",
       "    <tr style=\"text-align: right;\">\n",
       "      <th></th>\n",
       "      <th>Mem_Id</th>\n",
       "      <th>Mem_Name</th>\n",
       "      <th>Mem_PhoneNumber</th>\n",
       "      <th>Mem_Email</th>\n",
       "    </tr>\n",
       "  </thead>\n",
       "  <tbody>\n",
       "    <tr>\n",
       "      <th>0</th>\n",
       "      <td>701</td>\n",
       "      <td>Averil Madonna</td>\n",
       "      <td>214-193-2961</td>\n",
       "      <td>amadonna10@webeden.com</td>\n",
       "    </tr>\n",
       "    <tr>\n",
       "      <th>1</th>\n",
       "      <td>704</td>\n",
       "      <td>Carolina Frondt</td>\n",
       "      <td>690-613-8933</td>\n",
       "      <td>cfrondt13@cargocollective.com</td>\n",
       "    </tr>\n",
       "    <tr>\n",
       "      <th>2</th>\n",
       "      <td>707</td>\n",
       "      <td>Morey Lillecrop</td>\n",
       "      <td>809-628-5336</td>\n",
       "      <td>mlillecrop16@answers.com</td>\n",
       "    </tr>\n",
       "    <tr>\n",
       "      <th>3</th>\n",
       "      <td>724</td>\n",
       "      <td>Jammie Celli</td>\n",
       "      <td>601-361-0776</td>\n",
       "      <td>jcellin@is.gd</td>\n",
       "    </tr>\n",
       "    <tr>\n",
       "      <th>4</th>\n",
       "      <td>725</td>\n",
       "      <td>Loleta Barthelmes</td>\n",
       "      <td>300-901-3070</td>\n",
       "      <td>lbarthelmeso@umich.edu</td>\n",
       "    </tr>\n",
       "    <tr>\n",
       "      <th>5</th>\n",
       "      <td>752</td>\n",
       "      <td>Warner Woolward</td>\n",
       "      <td>783-885-7459</td>\n",
       "      <td>wwoolward1f@google.com.hk</td>\n",
       "    </tr>\n",
       "    <tr>\n",
       "      <th>6</th>\n",
       "      <td>706</td>\n",
       "      <td>Marinna Errigo</td>\n",
       "      <td>888-369-4487</td>\n",
       "      <td>merrigo15@plala.or.jp</td>\n",
       "    </tr>\n",
       "    <tr>\n",
       "      <th>7</th>\n",
       "      <td>713</td>\n",
       "      <td>Erena McCurrie</td>\n",
       "      <td>335-558-3188</td>\n",
       "      <td>emccurriec@gov.uk</td>\n",
       "    </tr>\n",
       "    <tr>\n",
       "      <th>8</th>\n",
       "      <td>718</td>\n",
       "      <td>Annie Blacksell</td>\n",
       "      <td>121-435-9649</td>\n",
       "      <td>ablacksellh@wikia.com</td>\n",
       "    </tr>\n",
       "    <tr>\n",
       "      <th>9</th>\n",
       "      <td>721</td>\n",
       "      <td>Petey Pottle</td>\n",
       "      <td>356-123-0944</td>\n",
       "      <td>ppottlek@about.com</td>\n",
       "    </tr>\n",
       "    <tr>\n",
       "      <th>10</th>\n",
       "      <td>742</td>\n",
       "      <td>L;urette Johnsson</td>\n",
       "      <td>755-110-3527</td>\n",
       "      <td>ljohnsson15@cyberchimps.com</td>\n",
       "    </tr>\n",
       "    <tr>\n",
       "      <th>11</th>\n",
       "      <td>746</td>\n",
       "      <td>Lovell Tappington</td>\n",
       "      <td>352-365-2354</td>\n",
       "      <td>ltappington19@tiny.cc</td>\n",
       "    </tr>\n",
       "    <tr>\n",
       "      <th>12</th>\n",
       "      <td>748</td>\n",
       "      <td>Livvy Mowsdill</td>\n",
       "      <td>737-792-1577</td>\n",
       "      <td>lmowsdill1b@seattletimes.com</td>\n",
       "    </tr>\n",
       "    <tr>\n",
       "      <th>13</th>\n",
       "      <td>749</td>\n",
       "      <td>Padriac Syred</td>\n",
       "      <td>506-335-2706</td>\n",
       "      <td>psyred1c@163.com</td>\n",
       "    </tr>\n",
       "    <tr>\n",
       "      <th>14</th>\n",
       "      <td>750</td>\n",
       "      <td>Haze Sebert</td>\n",
       "      <td>846-735-8360</td>\n",
       "      <td>hsebert1d@java.com</td>\n",
       "    </tr>\n",
       "    <tr>\n",
       "      <th>15</th>\n",
       "      <td>705</td>\n",
       "      <td>Matty Kaygill</td>\n",
       "      <td>608-506-6126</td>\n",
       "      <td>mkaygill14@cornell.edu</td>\n",
       "    </tr>\n",
       "    <tr>\n",
       "      <th>16</th>\n",
       "      <td>712</td>\n",
       "      <td>Johannah Connold</td>\n",
       "      <td>868-462-1349</td>\n",
       "      <td>jconnoldb@twitpic.com</td>\n",
       "    </tr>\n",
       "    <tr>\n",
       "      <th>17</th>\n",
       "      <td>716</td>\n",
       "      <td>Inger Hulburt</td>\n",
       "      <td>327-216-5759</td>\n",
       "      <td>ihulburtf@nytimes.com</td>\n",
       "    </tr>\n",
       "    <tr>\n",
       "      <th>18</th>\n",
       "      <td>720</td>\n",
       "      <td>Mollie Sealey</td>\n",
       "      <td>764-802-3078</td>\n",
       "      <td>msealeyj@weebly.com</td>\n",
       "    </tr>\n",
       "    <tr>\n",
       "      <th>19</th>\n",
       "      <td>726</td>\n",
       "      <td>Brynna Mulheron</td>\n",
       "      <td>320-741-8266</td>\n",
       "      <td>bmulheronp@wordpress.com</td>\n",
       "    </tr>\n",
       "    <tr>\n",
       "      <th>20</th>\n",
       "      <td>730</td>\n",
       "      <td>Micheal Unwins</td>\n",
       "      <td>460-858-1290</td>\n",
       "      <td>munwinst@china.com.cn</td>\n",
       "    </tr>\n",
       "    <tr>\n",
       "      <th>21</th>\n",
       "      <td>732</td>\n",
       "      <td>Alberik Joseff</td>\n",
       "      <td>172-894-9880</td>\n",
       "      <td>ajoseffv@slashdot.org</td>\n",
       "    </tr>\n",
       "    <tr>\n",
       "      <th>22</th>\n",
       "      <td>738</td>\n",
       "      <td>Neala Schoffel</td>\n",
       "      <td>137-431-7356</td>\n",
       "      <td>nschoffel11@newsvine.com</td>\n",
       "    </tr>\n",
       "    <tr>\n",
       "      <th>23</th>\n",
       "      <td>754</td>\n",
       "      <td>Angelia Gibby</td>\n",
       "      <td>629-287-4016</td>\n",
       "      <td>agibby1h@deliciousdays.com</td>\n",
       "    </tr>\n",
       "    <tr>\n",
       "      <th>24</th>\n",
       "      <td>755</td>\n",
       "      <td>Norbert Fone</td>\n",
       "      <td>678-451-4780</td>\n",
       "      <td>nfone1i@hud.gov</td>\n",
       "    </tr>\n",
       "    <tr>\n",
       "      <th>25</th>\n",
       "      <td>758</td>\n",
       "      <td>Keith Hencke</td>\n",
       "      <td>383-627-6117</td>\n",
       "      <td>khencke1l@e-recht24.de</td>\n",
       "    </tr>\n",
       "    <tr>\n",
       "      <th>26</th>\n",
       "      <td>760</td>\n",
       "      <td>Buckie Broggio</td>\n",
       "      <td>244-948-1657</td>\n",
       "      <td>bbroggio1n@sogou.com</td>\n",
       "    </tr>\n",
       "  </tbody>\n",
       "</table>\n",
       "</div>"
      ],
      "text/plain": [
       "    Mem_Id           Mem_Name Mem_PhoneNumber                      Mem_Email\n",
       "0      701     Averil Madonna    214-193-2961         amadonna10@webeden.com\n",
       "1      704    Carolina Frondt    690-613-8933  cfrondt13@cargocollective.com\n",
       "2      707    Morey Lillecrop    809-628-5336       mlillecrop16@answers.com\n",
       "3      724       Jammie Celli    601-361-0776                  jcellin@is.gd\n",
       "4      725  Loleta Barthelmes    300-901-3070         lbarthelmeso@umich.edu\n",
       "5      752    Warner Woolward    783-885-7459      wwoolward1f@google.com.hk\n",
       "6      706     Marinna Errigo    888-369-4487          merrigo15@plala.or.jp\n",
       "7      713     Erena McCurrie    335-558-3188              emccurriec@gov.uk\n",
       "8      718    Annie Blacksell    121-435-9649          ablacksellh@wikia.com\n",
       "9      721       Petey Pottle    356-123-0944             ppottlek@about.com\n",
       "10     742  L;urette Johnsson    755-110-3527    ljohnsson15@cyberchimps.com\n",
       "11     746  Lovell Tappington    352-365-2354          ltappington19@tiny.cc\n",
       "12     748     Livvy Mowsdill    737-792-1577   lmowsdill1b@seattletimes.com\n",
       "13     749      Padriac Syred    506-335-2706               psyred1c@163.com\n",
       "14     750        Haze Sebert    846-735-8360             hsebert1d@java.com\n",
       "15     705      Matty Kaygill    608-506-6126         mkaygill14@cornell.edu\n",
       "16     712   Johannah Connold    868-462-1349          jconnoldb@twitpic.com\n",
       "17     716      Inger Hulburt    327-216-5759          ihulburtf@nytimes.com\n",
       "18     720      Mollie Sealey    764-802-3078            msealeyj@weebly.com\n",
       "19     726    Brynna Mulheron    320-741-8266       bmulheronp@wordpress.com\n",
       "20     730     Micheal Unwins    460-858-1290          munwinst@china.com.cn\n",
       "21     732     Alberik Joseff    172-894-9880          ajoseffv@slashdot.org\n",
       "22     738     Neala Schoffel    137-431-7356       nschoffel11@newsvine.com\n",
       "23     754      Angelia Gibby    629-287-4016     agibby1h@deliciousdays.com\n",
       "24     755       Norbert Fone    678-451-4780                nfone1i@hud.gov\n",
       "25     758       Keith Hencke    383-627-6117         khencke1l@e-recht24.de\n",
       "26     760     Buckie Broggio    244-948-1657           bbroggio1n@sogou.com"
      ]
     },
     "execution_count": 63,
     "metadata": {},
     "output_type": "execute_result"
    }
   ],
   "source": [
    "query_6"
   ]
  },
  {
   "cell_type": "code",
   "execution_count": 64,
   "id": "1e741e44",
   "metadata": {},
   "outputs": [],
   "source": [
    "# Query 7 - Display minimum, maximum and average salary of managers\n",
    "\n",
    "query_7 = pd.read_sql_query('select min(Mangr_salary) as Minimum_Salary_of_Manager, max(Mangr_salary) as Maximum_Salary_of_Manager, avg(Mangr_salary) as Average_Salary_of_Manager from manager', connection)"
   ]
  },
  {
   "cell_type": "code",
   "execution_count": 65,
   "id": "6ec7fcdb",
   "metadata": {},
   "outputs": [
    {
     "data": {
      "text/html": [
       "<div>\n",
       "<style scoped>\n",
       "    .dataframe tbody tr th:only-of-type {\n",
       "        vertical-align: middle;\n",
       "    }\n",
       "\n",
       "    .dataframe tbody tr th {\n",
       "        vertical-align: top;\n",
       "    }\n",
       "\n",
       "    .dataframe thead th {\n",
       "        text-align: right;\n",
       "    }\n",
       "</style>\n",
       "<table border=\"1\" class=\"dataframe\">\n",
       "  <thead>\n",
       "    <tr style=\"text-align: right;\">\n",
       "      <th></th>\n",
       "      <th>Minimum_Salary_of_Manager</th>\n",
       "      <th>Maximum_Salary_of_Manager</th>\n",
       "      <th>Average_Salary_of_Manager</th>\n",
       "    </tr>\n",
       "  </thead>\n",
       "  <tbody>\n",
       "    <tr>\n",
       "      <th>0</th>\n",
       "      <td>42453.2</td>\n",
       "      <td>91234.0</td>\n",
       "      <td>69871.631641</td>\n",
       "    </tr>\n",
       "  </tbody>\n",
       "</table>\n",
       "</div>"
      ],
      "text/plain": [
       "   Minimum_Salary_of_Manager  Maximum_Salary_of_Manager  \\\n",
       "0                    42453.2                    91234.0   \n",
       "\n",
       "   Average_Salary_of_Manager  \n",
       "0               69871.631641  "
      ]
     },
     "execution_count": 65,
     "metadata": {},
     "output_type": "execute_result"
    }
   ],
   "source": [
    "query_7"
   ]
  },
  {
   "cell_type": "code",
   "execution_count": 66,
   "id": "ffa3b077",
   "metadata": {},
   "outputs": [],
   "source": [
    "# Query 8 - Retrieve the count of Personal_Trainers who are managed by Manager ID number 2 \n",
    "\n",
    "query_8 = pd.read_sql_query('SELECT count(*) as Number_of_Personal_Trainers FROM personal_trainer group by Mangr_ID having Mangr_ID=2', connection)"
   ]
  },
  {
   "cell_type": "code",
   "execution_count": 67,
   "id": "61b0f7a8",
   "metadata": {},
   "outputs": [
    {
     "data": {
      "text/html": [
       "<div>\n",
       "<style scoped>\n",
       "    .dataframe tbody tr th:only-of-type {\n",
       "        vertical-align: middle;\n",
       "    }\n",
       "\n",
       "    .dataframe tbody tr th {\n",
       "        vertical-align: top;\n",
       "    }\n",
       "\n",
       "    .dataframe thead th {\n",
       "        text-align: right;\n",
       "    }\n",
       "</style>\n",
       "<table border=\"1\" class=\"dataframe\">\n",
       "  <thead>\n",
       "    <tr style=\"text-align: right;\">\n",
       "      <th></th>\n",
       "      <th>Number_of_Personal_Trainers</th>\n",
       "    </tr>\n",
       "  </thead>\n",
       "  <tbody>\n",
       "    <tr>\n",
       "      <th>0</th>\n",
       "      <td>5</td>\n",
       "    </tr>\n",
       "  </tbody>\n",
       "</table>\n",
       "</div>"
      ],
      "text/plain": [
       "   Number_of_Personal_Trainers\n",
       "0                            5"
      ]
     },
     "execution_count": 67,
     "metadata": {},
     "output_type": "execute_result"
    }
   ],
   "source": [
    "query_8"
   ]
  },
  {
   "cell_type": "code",
   "execution_count": 68,
   "id": "1d1c94a9",
   "metadata": {},
   "outputs": [],
   "source": [
    "# Query 9 - Display finance department employee details whose name begins with D or E\n",
    "\n",
    "query_9 = pd.read_sql_query('select * from finance_department where FD_Emp_Name like \\'D%\\' or FD_Emp_Name like \\'E%\\'', connection)"
   ]
  },
  {
   "cell_type": "code",
   "execution_count": 69,
   "id": "1c5ec73a",
   "metadata": {},
   "outputs": [
    {
     "data": {
      "text/html": [
       "<div>\n",
       "<style scoped>\n",
       "    .dataframe tbody tr th:only-of-type {\n",
       "        vertical-align: middle;\n",
       "    }\n",
       "\n",
       "    .dataframe tbody tr th {\n",
       "        vertical-align: top;\n",
       "    }\n",
       "\n",
       "    .dataframe thead th {\n",
       "        text-align: right;\n",
       "    }\n",
       "</style>\n",
       "<table border=\"1\" class=\"dataframe\">\n",
       "  <thead>\n",
       "    <tr style=\"text-align: right;\">\n",
       "      <th></th>\n",
       "      <th>FD_Emp_ID</th>\n",
       "      <th>FD_Emp_Name</th>\n",
       "      <th>FD_Emp_DOB</th>\n",
       "      <th>FD_Emp_PhoneNumber</th>\n",
       "      <th>FD_Emp_Email</th>\n",
       "      <th>FD_Emp_Address</th>\n",
       "      <th>Mangr_ID</th>\n",
       "    </tr>\n",
       "  </thead>\n",
       "  <tbody>\n",
       "    <tr>\n",
       "      <th>0</th>\n",
       "      <td>101</td>\n",
       "      <td>Derek Abbotson</td>\n",
       "      <td>2001-05-20</td>\n",
       "      <td>947-218-2617</td>\n",
       "      <td>derekabbotson@gmail.com</td>\n",
       "      <td>170 Parker Hill</td>\n",
       "      <td>2</td>\n",
       "    </tr>\n",
       "    <tr>\n",
       "      <th>1</th>\n",
       "      <td>103</td>\n",
       "      <td>Doralynn Coatsworth</td>\n",
       "      <td>1990-11-12</td>\n",
       "      <td>901-367-2617</td>\n",
       "      <td>dcoatsworth6@hotmail.com</td>\n",
       "      <td>881 Hungtington Ave</td>\n",
       "      <td>3</td>\n",
       "    </tr>\n",
       "    <tr>\n",
       "      <th>2</th>\n",
       "      <td>107</td>\n",
       "      <td>Erlich Bachmann</td>\n",
       "      <td>1985-03-12</td>\n",
       "      <td>412-754-3243</td>\n",
       "      <td>erlich@piedpier.com</td>\n",
       "      <td>857 Opera Pl</td>\n",
       "      <td>3</td>\n",
       "    </tr>\n",
       "  </tbody>\n",
       "</table>\n",
       "</div>"
      ],
      "text/plain": [
       "   FD_Emp_ID          FD_Emp_Name FD_Emp_DOB FD_Emp_PhoneNumber  \\\n",
       "0        101       Derek Abbotson 2001-05-20       947-218-2617   \n",
       "1        103  Doralynn Coatsworth 1990-11-12       901-367-2617   \n",
       "2        107      Erlich Bachmann 1985-03-12       412-754-3243   \n",
       "\n",
       "               FD_Emp_Email       FD_Emp_Address  Mangr_ID  \n",
       "0   derekabbotson@gmail.com      170 Parker Hill         2  \n",
       "1  dcoatsworth6@hotmail.com  881 Hungtington Ave         3  \n",
       "2       erlich@piedpier.com         857 Opera Pl         3  "
      ]
     },
     "execution_count": 69,
     "metadata": {},
     "output_type": "execute_result"
    }
   ],
   "source": [
    "query_9"
   ]
  },
  {
   "cell_type": "code",
   "execution_count": 73,
   "id": "ddea4760",
   "metadata": {},
   "outputs": [
    {
     "data": {
      "text/plain": [
       "<AxesSubplot:xlabel='Manager_Name', ylabel='Manager_Salary'>"
      ]
     },
     "execution_count": 73,
     "metadata": {},
     "output_type": "execute_result"
    },
    {
     "data": {
      "image/png": "[encoded data removed]",
      "text/plain": [
       "<Figure size 1274.4x595.44 with 1 Axes>"
      ]
     },
     "metadata": {},
     "output_type": "display_data"
    }
   ],
   "source": [
    "# Bar Plot of Manager Name vs Manager Salary\n",
    "barplot_df = pd.DataFrame()\n",
    "barplot_df['Manager_Name'] = pd.read_sql_query('select Mangr_Name from manager', connection)\n",
    "barplot_df['Manager_Name'] = barplot_df['Manager_Name'].astype(str)\n",
    "barplot_df['Manager_Salary'] = pd.read_sql_query('select Mangr_Salary from manager', connection)\n",
    "barplot_df['Manager_Salary'] = barplot_df['Manager_Salary'].astype(float)\n",
    "sns.set(rc={'figure.figsize':(17.7,8.27)})\n",
    "sns.barplot(barplot_df['Manager_Name'],barplot_df['Manager_Salary'])"
   ]
  },
  {
   "cell_type": "code",
   "execution_count": 75,
   "id": "c7b4a5c9",
   "metadata": {},
   "outputs": [
    {
     "data": {
      "text/plain": [
       "<AxesSubplot:xlabel='Mem_Name', ylabel='Mem_Fees'>"
      ]
     },
     "execution_count": 75,
     "metadata": {},
     "output_type": "execute_result"
    },
    {
     "data": {
      "image/png": "[encoded data removed]",
      "text/plain": [
       "<Figure size 1274.4x595.44 with 1 Axes>"
      ]
     },
     "metadata": {},
     "output_type": "display_data"
    }
   ],
   "source": [
    "# Line Plot of Member Name vs Member Fees (Top 10 Highest Fees Paying Members)\n",
    "lineplot_df = pd.DataFrame()\n",
    "lineplot_df['Mem_Name'] = pd.read_sql_query('select Mem_Name from member order by Mem_Fees DESC limit 10', connection)\n",
    "lineplot_df['Mem_Fees'] = pd.read_sql_query('select Mem_Fees from member order by Mem_Fees DESC limit 10', connection)\n",
    "sns.set(rc={'figure.figsize':(17.7,8.27)})\n",
    "sns.lineplot(data=lineplot_df, x=\"Mem_Name\", y=\"Mem_Fees\")"
   ]
  },
  {
   "cell_type": "code",
   "execution_count": 78,
   "id": "5bacecad",
   "metadata": {},
   "outputs": [
    {
     "data": {
      "image/png": "[encoded data removed]",
      "text/plain": [
       "<Figure size 1274.4x595.44 with 1 Axes>"
      ]
     },
     "metadata": {},
     "output_type": "display_data"
    }
   ],
   "source": [
    "# Boxplots of Nutritionist Salary and Personal Trainer Salary\n",
    "boxplot_df = pd.DataFrame()\n",
    "boxplot_df['Nutritionist_Salary'] = pd.read_sql_query('select N_Salary from Nutritionist', connection)\n",
    "boxplot_df['Personal_Trainer_Salary'] = pd.read_sql_query('select PT_Salary from Personal_Trainer', connection)\n",
    "data = pd.DataFrame({\"Nutritionist_Salary\": boxplot_df['Nutritionist_Salary'].astype(float), \"Personal_Trainer_Salary\": boxplot_df['Personal_Trainer_Salary'].astype(float)})\n",
    "ax = data[['Nutritionist_Salary', 'Personal_Trainer_Salary']].plot(kind='box')\n",
    "plt.show()"
   ]
  },
  {
   "cell_type": "code",
   "execution_count": 89,
   "id": "361678c9",
   "metadata": {},
   "outputs": [
    {
     "data": {
      "image/png": "[encoded data removed]",
      "text/plain": [
       "<Figure size 1274.4x595.44 with 1 Axes>"
      ]
     },
     "metadata": {},
     "output_type": "display_data"
    }
   ],
   "source": [
    "# Piechart of Members Age Groups\n",
    "pie_df = pd.DataFrame()\n",
    "pie_df1 = pd.DataFrame()\n",
    "pie_df2 = pd.DataFrame()\n",
    "pie_df3 = pd.DataFrame()\n",
    "pie_df4 = pd.DataFrame()\n",
    "pie_chart = pd.DataFrame()\n",
    "pie_df['Age'] = pd.read_sql_query('SELECT DATE_FORMAT(FROM_DAYS(DATEDIFF(NOW(), Mem_DOB)), \\'%Y\\') FROM Member order by Mem_DOB desc', connection)\n",
    "pie_df['Age'] = pie_df['Age'].str.lstrip('0')\n",
    "pie_df1['Age'] = pie_df.iloc[0:14,:]\n",
    "a = round((len(pie_df1)/len(pie_df))*100,2)\n",
    "pie_df2['Age'] = pie_df.iloc[14:36,:]\n",
    "b = round((len(pie_df2)/len(pie_df))*100,2)\n",
    "pie_df3['Age'] = pie_df.iloc[36:50,:]\n",
    "c = round((len(pie_df3)/len(pie_df))*100,2)\n",
    "pie_df4['Age'] = pie_df.iloc[50:,:]\n",
    "d = round((len(pie_df4)/len(pie_df))*100,2)\n",
    "\n",
    "textprops = {\"fontsize\":15}\n",
    "pie_chart = pd.DataFrame({\"Age_Groups\": ['20s','30s','40s','50s'], \"Percentages\" : [a,b,c,d]})\n",
    "plt.pie(pie_chart[\"Percentages\"], labels = pie_chart[\"Age_Groups\"], radius = 1.2, autopct = \"%0.2f%%\", textprops = textprops)\n",
    "plt.show()"
   ]
  },
  {
   "cell_type": "code",
   "execution_count": 91,
   "id": "7b4dc858",
   "metadata": {},
   "outputs": [
    {
     "data": {
      "application/vnd.plotly.v1+json": {
       "config": {
        "plotlyServerURL": "https://plot.ly"
       },
       "data": [
        {
         "hovertemplate": "x=%{x}<br>y=%{y}<extra></extra>",
         "legendgroup": "",
         "marker": {
          "color": "#636efa",
          "symbol": "circle"
         },
         "mode": "markers",
         "name": "",
         "orientation": "v",
         "showlegend": false,
         "type": "scatter",
         "x": [
          "Sandro Cogdon",
          "Cynthia Tabourier",
          "June Dillintone",
          "Meredithe Kyrkeman",
          "Garland Ryce",
          "Brook Caldron",
          "Marten Mariette",
          "Uta Phelipeaux",
          "Vick Waddie",
          "Othilie Dodsley",
          "Goldina Rainford",
          "Xenos Loughlan",
          "Kelley Towson",
          "Charissa Smee",
          "Kristen Henriques"
         ],
         "xaxis": "x",
         "y": [
          "20",
          "21",
          "24",
          "25",
          "32",
          "32",
          "33",
          "33",
          "33",
          "34",
          "35",
          "37",
          "38",
          "41",
          "45"
         ],
         "yaxis": "y"
        }
       ],
       "layout": {
        "legend": {
         "tracegroupgap": 0
        },
        "margin": {
         "t": 60
        },
        "template": {
         "data": {
          "bar": [
           {
            "error_x": {
             "color": "#2a3f5f"
            },
            "error_y": {
             "color": "#2a3f5f"
            },
            "marker": {
             "line": {
              "color": "#E5ECF6",
              "width": 0.5
             },
             "pattern": {
              "fillmode": "overlay",
              "size": 10,
              "solidity": 0.2
             }
            },
            "type": "bar"
           }
          ],
          "barpolar": [
           {
            "marker": {
             "line": {
              "color": "#E5ECF6",
              "width": 0.5
             },
             "pattern": {
              "fillmode": "overlay",
              "size": 10,
              "solidity": 0.2
             }
            },
            "type": "barpolar"
           }
          ],
          "carpet": [
           {
            "aaxis": {
             "endlinecolor": "#2a3f5f",
             "gridcolor": "white",
             "linecolor": "white",
             "minorgridcolor": "white",
             "startlinecolor": "#2a3f5f"
            },
            "baxis": {
             "endlinecolor": "#2a3f5f",
             "gridcolor": "white",
             "linecolor": "white",
             "minorgridcolor": "white",
             "startlinecolor": "#2a3f5f"
            },
            "type": "carpet"
           }
          ],
          "choropleth": [
           {
            "colorbar": {
             "outlinewidth": 0,
             "ticks": ""
            },
            "type": "choropleth"
           }
          ],
          "contour": [
           {
            "colorbar": {
             "outlinewidth": 0,
             "ticks": ""
            },
            "colorscale": [
             [
              0,
              "#0d0887"
             ],
             [
              0.1111111111111111,
              "#46039f"
             ],
             [
              0.2222222222222222,
              "#7201a8"
             ],
             [
              0.3333333333333333,
              "#9c179e"
             ],
             [
              0.4444444444444444,
              "#bd3786"
             ],
             [
              0.5555555555555556,
              "#d8576b"
             ],
             [
              0.6666666666666666,
              "#ed7953"
             ],
             [
              0.7777777777777778,
              "#fb9f3a"
             ],
             [
              0.8888888888888888,
              "#fdca26"
             ],
             [
              1,
              "#f0f921"
             ]
            ],
            "type": "contour"
           }
          ],
          "contourcarpet": [
           {
            "colorbar": {
             "outlinewidth": 0,
             "ticks": ""
            },
            "type": "contourcarpet"
           }
          ],
          "heatmap": [
           {
            "colorbar": {
             "outlinewidth": 0,
             "ticks": ""
            },
            "colorscale": [
             [
              0,
              "#0d0887"
             ],
             [
              0.1111111111111111,
              "#46039f"
             ],
             [
              0.2222222222222222,
              "#7201a8"
             ],
             [
              0.3333333333333333,
              "#9c179e"
             ],
             [
              0.4444444444444444,
              "#bd3786"
             ],
             [
              0.5555555555555556,
              "#d8576b"
             ],
             [
              0.6666666666666666,
              "#ed7953"
             ],
             [
              0.7777777777777778,
              "#fb9f3a"
             ],
             [
              0.8888888888888888,
              "#fdca26"
             ],
             [
              1,
              "#f0f921"
             ]
            ],
            "type": "heatmap"
           }
          ],
          "heatmapgl": [
           {
            "colorbar": {
             "outlinewidth": 0,
             "ticks": ""
            },
            "colorscale": [
             [
              0,
              "#0d0887"
             ],
             [
              0.1111111111111111,
              "#46039f"
             ],
             [
              0.2222222222222222,
              "#7201a8"
             ],
             [
              0.3333333333333333,
              "#9c179e"
             ],
             [
              0.4444444444444444,
              "#bd3786"
             ],
             [
              0.5555555555555556,
              "#d8576b"
             ],
             [
              0.6666666666666666,
              "#ed7953"
             ],
             [
              0.7777777777777778,
              "#fb9f3a"
             ],
             [
              0.8888888888888888,
              "#fdca26"
             ],
             [
              1,
              "#f0f921"
             ]
            ],
            "type": "heatmapgl"
           }
          ],
          "histogram": [
           {
            "marker": {
             "pattern": {
              "fillmode": "overlay",
              "size": 10,
              "solidity": 0.2
             }
            },
            "type": "histogram"
           }
          ],
          "histogram2d": [
           {
            "colorbar": {
             "outlinewidth": 0,
             "ticks": ""
            },
            "colorscale": [
             [
              0,
              "#0d0887"
             ],
             [
              0.1111111111111111,
              "#46039f"
             ],
             [
              0.2222222222222222,
              "#7201a8"
             ],
             [
              0.3333333333333333,
              "#9c179e"
             ],
             [
              0.4444444444444444,
              "#bd3786"
             ],
             [
              0.5555555555555556,
              "#d8576b"
             ],
             [
              0.6666666666666666,
              "#ed7953"
             ],
             [
              0.7777777777777778,
              "#fb9f3a"
             ],
             [
              0.8888888888888888,
              "#fdca26"
             ],
             [
              1,
              "#f0f921"
             ]
            ],
            "type": "histogram2d"
           }
          ],
          "histogram2dcontour": [
           {
            "colorbar": {
             "outlinewidth": 0,
             "ticks": ""
            },
            "colorscale": [
             [
              0,
              "#0d0887"
             ],
             [
              0.1111111111111111,
              "#46039f"
             ],
             [
              0.2222222222222222,
              "#7201a8"
             ],
             [
              0.3333333333333333,
              "#9c179e"
             ],
             [
              0.4444444444444444,
              "#bd3786"
             ],
             [
              0.5555555555555556,
              "#d8576b"
             ],
             [
              0.6666666666666666,
              "#ed7953"
             ],
             [
              0.7777777777777778,
              "#fb9f3a"
             ],
             [
              0.8888888888888888,
              "#fdca26"
             ],
             [
              1,
              "#f0f921"
             ]
            ],
            "type": "histogram2dcontour"
           }
          ],
          "mesh3d": [
           {
            "colorbar": {
             "outlinewidth": 0,
             "ticks": ""
            },
            "type": "mesh3d"
           }
          ],
          "parcoords": [
           {
            "line": {
             "colorbar": {
              "outlinewidth": 0,
              "ticks": ""
             }
            },
            "type": "parcoords"
           }
          ],
          "pie": [
           {
            "automargin": true,
            "type": "pie"
           }
          ],
          "scatter": [
           {
            "marker": {
             "colorbar": {
              "outlinewidth": 0,
              "ticks": ""
             }
            },
            "type": "scatter"
           }
          ],
          "scatter3d": [
           {
            "line": {
             "colorbar": {
              "outlinewidth": 0,
              "ticks": ""
             }
            },
            "marker": {
             "colorbar": {
              "outlinewidth": 0,
              "ticks": ""
             }
            },
            "type": "scatter3d"
           }
          ],
          "scattercarpet": [
           {
            "marker": {
             "colorbar": {
              "outlinewidth": 0,
              "ticks": ""
             }
            },
            "type": "scattercarpet"
           }
          ],
          "scattergeo": [
           {
            "marker": {
             "colorbar": {
              "outlinewidth": 0,
              "ticks": ""
             }
            },
            "type": "scattergeo"
           }
          ],
          "scattergl": [
           {
            "marker": {
             "colorbar": {
              "outlinewidth": 0,
              "ticks": ""
             }
            },
            "type": "scattergl"
           }
          ],
          "scattermapbox": [
           {
            "marker": {
             "colorbar": {
              "outlinewidth": 0,
              "ticks": ""
             }
            },
            "type": "scattermapbox"
           }
          ],
          "scatterpolar": [
           {
            "marker": {
             "colorbar": {
              "outlinewidth": 0,
              "ticks": ""
             }
            },
            "type": "scatterpolar"
           }
          ],
          "scatterpolargl": [
           {
            "marker": {
             "colorbar": {
              "outlinewidth": 0,
              "ticks": ""
             }
            },
            "type": "scatterpolargl"
           }
          ],
          "scatterternary": [
           {
            "marker": {
             "colorbar": {
              "outlinewidth": 0,
              "ticks": ""
             }
            },
            "type": "scatterternary"
           }
          ],
          "surface": [
           {
            "colorbar": {
             "outlinewidth": 0,
             "ticks": ""
            },
            "colorscale": [
             [
              0,
              "#0d0887"
             ],
             [
              0.1111111111111111,
              "#46039f"
             ],
             [
              0.2222222222222222,
              "#7201a8"
             ],
             [
              0.3333333333333333,
              "#9c179e"
             ],
             [
              0.4444444444444444,
              "#bd3786"
             ],
             [
              0.5555555555555556,
              "#d8576b"
             ],
             [
              0.6666666666666666,
              "#ed7953"
             ],
             [
              0.7777777777777778,
              "#fb9f3a"
             ],
             [
              0.8888888888888888,
              "#fdca26"
             ],
             [
              1,
              "#f0f921"
             ]
            ],
            "type": "surface"
           }
          ],
          "table": [
           {
            "cells": {
             "fill": {
              "color": "#EBF0F8"
             },
             "line": {
              "color": "white"
             }
            },
            "header": {
             "fill": {
              "color": "#C8D4E3"
             },
             "line": {
              "color": "white"
             }
            },
            "type": "table"
           }
          ]
         },
         "layout": {
          "annotationdefaults": {
           "arrowcolor": "#2a3f5f",
           "arrowhead": 0,
           "arrowwidth": 1
          },
          "autotypenumbers": "strict",
          "coloraxis": {
           "colorbar": {
            "outlinewidth": 0,
            "ticks": ""
           }
          },
          "colorscale": {
           "diverging": [
            [
             0,
             "#8e0152"
            ],
            [
             0.1,
             "#c51b7d"
            ],
            [
             0.2,
             "#de77ae"
            ],
            [
             0.3,
             "#f1b6da"
            ],
            [
             0.4,
             "#fde0ef"
            ],
            [
             0.5,
             "#f7f7f7"
            ],
            [
             0.6,
             "#e6f5d0"
            ],
            [
             0.7,
             "#b8e186"
            ],
            [
             0.8,
             "#7fbc41"
            ],
            [
             0.9,
             "#4d9221"
            ],
            [
             1,
             "#276419"
            ]
           ],
           "sequential": [
            [
             0,
             "#0d0887"
            ],
            [
             0.1111111111111111,
             "#46039f"
            ],
            [
             0.2222222222222222,
             "#7201a8"
            ],
            [
             0.3333333333333333,
             "#9c179e"
            ],
            [
             0.4444444444444444,
             "#bd3786"
            ],
            [
             0.5555555555555556,
             "#d8576b"
            ],
            [
             0.6666666666666666,
             "#ed7953"
            ],
            [
             0.7777777777777778,
             "#fb9f3a"
            ],
            [
             0.8888888888888888,
             "#fdca26"
            ],
            [
             1,
             "#f0f921"
            ]
           ],
           "sequentialminus": [
            [
             0,
             "#0d0887"
            ],
            [
             0.1111111111111111,
             "#46039f"
            ],
            [
             0.2222222222222222,
             "#7201a8"
            ],
            [
             0.3333333333333333,
             "#9c179e"
            ],
            [
             0.4444444444444444,
             "#bd3786"
            ],
            [
             0.5555555555555556,
             "#d8576b"
            ],
            [
             0.6666666666666666,
             "#ed7953"
            ],
            [
             0.7777777777777778,
             "#fb9f3a"
            ],
            [
             0.8888888888888888,
             "#fdca26"
            ],
            [
             1,
             "#f0f921"
            ]
           ]
          },
          "colorway": [
           "#636efa",
           "#EF553B",
           "#00cc96",
           "#ab63fa",
           "#FFA15A",
           "#19d3f3",
           "#FF6692",
           "#B6E880",
           "#FF97FF",
           "#FECB52"
          ],
          "font": {
           "color": "#2a3f5f"
          },
          "geo": {
           "bgcolor": "white",
           "lakecolor": "white",
           "landcolor": "#E5ECF6",
           "showlakes": true,
           "showland": true,
           "subunitcolor": "white"
          },
          "hoverlabel": {
           "align": "left"
          },
          "hovermode": "closest",
          "mapbox": {
           "style": "light"
          },
          "paper_bgcolor": "white",
          "plot_bgcolor": "#E5ECF6",
          "polar": {
           "angularaxis": {
            "gridcolor": "white",
            "linecolor": "white",
            "ticks": ""
           },
           "bgcolor": "#E5ECF6",
           "radialaxis": {
            "gridcolor": "white",
            "linecolor": "white",
            "ticks": ""
           }
          },
          "scene": {
           "xaxis": {
            "backgroundcolor": "#E5ECF6",
            "gridcolor": "white",
            "gridwidth": 2,
            "linecolor": "white",
            "showbackground": true,
            "ticks": "",
            "zerolinecolor": "white"
           },
           "yaxis": {
            "backgroundcolor": "#E5ECF6",
            "gridcolor": "white",
            "gridwidth": 2,
            "linecolor": "white",
            "showbackground": true,
            "ticks": "",
            "zerolinecolor": "white"
           },
           "zaxis": {
            "backgroundcolor": "#E5ECF6",
            "gridcolor": "white",
            "gridwidth": 2,
            "linecolor": "white",
            "showbackground": true,
            "ticks": "",
            "zerolinecolor": "white"
           }
          },
          "shapedefaults": {
           "line": {
            "color": "#2a3f5f"
           }
          },
          "ternary": {
           "aaxis": {
            "gridcolor": "white",
            "linecolor": "white",
            "ticks": ""
           },
           "baxis": {
            "gridcolor": "white",
            "linecolor": "white",
            "ticks": ""
           },
           "bgcolor": "#E5ECF6",
           "caxis": {
            "gridcolor": "white",
            "linecolor": "white",
            "ticks": ""
           }
          },
          "title": {
           "x": 0.05
          },
          "xaxis": {
           "automargin": true,
           "gridcolor": "white",
           "linecolor": "white",
           "ticks": "",
           "title": {
            "standoff": 15
           },
           "zerolinecolor": "white",
           "zerolinewidth": 2
          },
          "yaxis": {
           "automargin": true,
           "gridcolor": "white",
           "linecolor": "white",
           "ticks": "",
           "title": {
            "standoff": 15
           },
           "zerolinecolor": "white",
           "zerolinewidth": 2
          }
         }
        },
        "xaxis": {
         "anchor": "y",
         "domain": [
          0,
          1
         ],
         "title": {
          "text": "x"
         }
        },
        "yaxis": {
         "anchor": "x",
         "domain": [
          0,
          1
         ],
         "title": {
          "text": "y"
         }
        }
       }
      },
      "text/html": [
       "<div>                            <div id=\"9e879c59-c989-49cd-ac79-4e8482796b65\" class=\"plotly-graph-div\" style=\"height:525px; width:100%;\"></div>            <script type=\"text/javascript\">                require([\"plotly\"], function(Plotly) {                    window.PLOTLYENV=window.PLOTLYENV || {};                                    if (document.getElementById(\"9e879c59-c989-49cd-ac79-4e8482796b65\")) {                    Plotly.newPlot(                        \"9e879c59-c989-49cd-ac79-4e8482796b65\",                        [{\"hovertemplate\":\"x=%{x}<br>y=%{y}<extra></extra>\",\"legendgroup\":\"\",\"marker\":{\"color\":\"#636efa\",\"symbol\":\"circle\"},\"mode\":\"markers\",\"name\":\"\",\"orientation\":\"v\",\"showlegend\":false,\"x\":[\"Sandro Cogdon\",\"Cynthia Tabourier\",\"June Dillintone\",\"Meredithe Kyrkeman\",\"Garland Ryce\",\"Brook Caldron\",\"Marten Mariette\",\"Uta Phelipeaux\",\"Vick Waddie\",\"Othilie Dodsley\",\"Goldina Rainford\",\"Xenos Loughlan\",\"Kelley Towson\",\"Charissa Smee\",\"Kristen Henriques\"],\"xaxis\":\"x\",\"y\":[\"20\",\"21\",\"24\",\"25\",\"32\",\"32\",\"33\",\"33\",\"33\",\"34\",\"35\",\"37\",\"38\",\"41\",\"45\"],\"yaxis\":\"y\",\"type\":\"scatter\"}],                        {\"template\":{\"data\":{\"bar\":[{\"error_x\":{\"color\":\"#2a3f5f\"},\"error_y\":{\"color\":\"#2a3f5f\"},\"marker\":{\"line\":{\"color\":\"#E5ECF6\",\"width\":0.5},\"pattern\":{\"fillmode\":\"overlay\",\"size\":10,\"solidity\":0.2}},\"type\":\"bar\"}],\"barpolar\":[{\"marker\":{\"line\":{\"color\":\"#E5ECF6\",\"width\":0.5},\"pattern\":{\"fillmode\":\"overlay\",\"size\":10,\"solidity\":0.2}},\"type\":\"barpolar\"}],\"carpet\":[{\"aaxis\":{\"endlinecolor\":\"#2a3f5f\",\"gridcolor\":\"white\",\"linecolor\":\"white\",\"minorgridcolor\":\"white\",\"startlinecolor\":\"#2a3f5f\"},\"baxis\":{\"endlinecolor\":\"#2a3f5f\",\"gridcolor\":\"white\",\"linecolor\":\"white\",\"minorgridcolor\":\"white\",\"startlinecolor\":\"#2a3f5f\"},\"type\":\"carpet\"}],\"choropleth\":[{\"colorbar\":{\"outlinewidth\":0,\"ticks\":\"\"},\"type\":\"choropleth\"}],\"contour\":[{\"colorbar\":{\"outlinewidth\":0,\"ticks\":\"\"},\"colorscale\":[[0.0,\"#0d0887\"],[0.1111111111111111,\"#46039f\"],[0.2222222222222222,\"#7201a8\"],[0.3333333333333333,\"#9c179e\"],[0.4444444444444444,\"#bd3786\"],[0.5555555555555556,\"#d8576b\"],[0.6666666666666666,\"#ed7953\"],[0.7777777777777778,\"#fb9f3a\"],[0.8888888888888888,\"#fdca26\"],[1.0,\"#f0f921\"]],\"type\":\"contour\"}],\"contourcarpet\":[{\"colorbar\":{\"outlinewidth\":0,\"ticks\":\"\"},\"type\":\"contourcarpet\"}],\"heatmap\":[{\"colorbar\":{\"outlinewidth\":0,\"ticks\":\"\"},\"colorscale\":[[0.0,\"#0d0887\"],[0.1111111111111111,\"#46039f\"],[0.2222222222222222,\"#7201a8\"],[0.3333333333333333,\"#9c179e\"],[0.4444444444444444,\"#bd3786\"],[0.5555555555555556,\"#d8576b\"],[0.6666666666666666,\"#ed7953\"],[0.7777777777777778,\"#fb9f3a\"],[0.8888888888888888,\"#fdca26\"],[1.0,\"#f0f921\"]],\"type\":\"heatmap\"}],\"heatmapgl\":[{\"colorbar\":{\"outlinewidth\":0,\"ticks\":\"\"},\"colorscale\":[[0.0,\"#0d0887\"],[0.1111111111111111,\"#46039f\"],[0.2222222222222222,\"#7201a8\"],[0.3333333333333333,\"#9c179e\"],[0.4444444444444444,\"#bd3786\"],[0.5555555555555556,\"#d8576b\"],[0.6666666666666666,\"#ed7953\"],[0.7777777777777778,\"#fb9f3a\"],[0.8888888888888888,\"#fdca26\"],[1.0,\"#f0f921\"]],\"type\":\"heatmapgl\"}],\"histogram\":[{\"marker\":{\"pattern\":{\"fillmode\":\"overlay\",\"size\":10,\"solidity\":0.2}},\"type\":\"histogram\"}],\"histogram2d\":[{\"colorbar\":{\"outlinewidth\":0,\"ticks\":\"\"},\"colorscale\":[[0.0,\"#0d0887\"],[0.1111111111111111,\"#46039f\"],[0.2222222222222222,\"#7201a8\"],[0.3333333333333333,\"#9c179e\"],[0.4444444444444444,\"#bd3786\"],[0.5555555555555556,\"#d8576b\"],[0.6666666666666666,\"#ed7953\"],[0.7777777777777778,\"#fb9f3a\"],[0.8888888888888888,\"#fdca26\"],[1.0,\"#f0f921\"]],\"type\":\"histogram2d\"}],\"histogram2dcontour\":[{\"colorbar\":{\"outlinewidth\":0,\"ticks\":\"\"},\"colorscale\":[[0.0,\"#0d0887\"],[0.1111111111111111,\"#46039f\"],[0.2222222222222222,\"#7201a8\"],[0.3333333333333333,\"#9c179e\"],[0.4444444444444444,\"#bd3786\"],[0.5555555555555556,\"#d8576b\"],[0.6666666666666666,\"#ed7953\"],[0.7777777777777778,\"#fb9f3a\"],[0.8888888888888888,\"#fdca26\"],[1.0,\"#f0f921\"]],\"type\":\"histogram2dcontour\"}],\"mesh3d\":[{\"colorbar\":{\"outlinewidth\":0,\"ticks\":\"\"},\"type\":\"mesh3d\"}],\"parcoords\":[{\"line\":{\"colorbar\":{\"outlinewidth\":0,\"ticks\":\"\"}},\"type\":\"parcoords\"}],\"pie\":[{\"automargin\":true,\"type\":\"pie\"}],\"scatter\":[{\"marker\":{\"colorbar\":{\"outlinewidth\":0,\"ticks\":\"\"}},\"type\":\"scatter\"}],\"scatter3d\":[{\"line\":{\"colorbar\":{\"outlinewidth\":0,\"ticks\":\"\"}},\"marker\":{\"colorbar\":{\"outlinewidth\":0,\"ticks\":\"\"}},\"type\":\"scatter3d\"}],\"scattercarpet\":[{\"marker\":{\"colorbar\":{\"outlinewidth\":0,\"ticks\":\"\"}},\"type\":\"scattercarpet\"}],\"scattergeo\":[{\"marker\":{\"colorbar\":{\"outlinewidth\":0,\"ticks\":\"\"}},\"type\":\"scattergeo\"}],\"scattergl\":[{\"marker\":{\"colorbar\":{\"outlinewidth\":0,\"ticks\":\"\"}},\"type\":\"scattergl\"}],\"scattermapbox\":[{\"marker\":{\"colorbar\":{\"outlinewidth\":0,\"ticks\":\"\"}},\"type\":\"scattermapbox\"}],\"scatterpolar\":[{\"marker\":{\"colorbar\":{\"outlinewidth\":0,\"ticks\":\"\"}},\"type\":\"scatterpolar\"}],\"scatterpolargl\":[{\"marker\":{\"colorbar\":{\"outlinewidth\":0,\"ticks\":\"\"}},\"type\":\"scatterpolargl\"}],\"scatterternary\":[{\"marker\":{\"colorbar\":{\"outlinewidth\":0,\"ticks\":\"\"}},\"type\":\"scatterternary\"}],\"surface\":[{\"colorbar\":{\"outlinewidth\":0,\"ticks\":\"\"},\"colorscale\":[[0.0,\"#0d0887\"],[0.1111111111111111,\"#46039f\"],[0.2222222222222222,\"#7201a8\"],[0.3333333333333333,\"#9c179e\"],[0.4444444444444444,\"#bd3786\"],[0.5555555555555556,\"#d8576b\"],[0.6666666666666666,\"#ed7953\"],[0.7777777777777778,\"#fb9f3a\"],[0.8888888888888888,\"#fdca26\"],[1.0,\"#f0f921\"]],\"type\":\"surface\"}],\"table\":[{\"cells\":{\"fill\":{\"color\":\"#EBF0F8\"},\"line\":{\"color\":\"white\"}},\"header\":{\"fill\":{\"color\":\"#C8D4E3\"},\"line\":{\"color\":\"white\"}},\"type\":\"table\"}]},\"layout\":{\"annotationdefaults\":{\"arrowcolor\":\"#2a3f5f\",\"arrowhead\":0,\"arrowwidth\":1},\"autotypenumbers\":\"strict\",\"coloraxis\":{\"colorbar\":{\"outlinewidth\":0,\"ticks\":\"\"}},\"colorscale\":{\"diverging\":[[0,\"#8e0152\"],[0.1,\"#c51b7d\"],[0.2,\"#de77ae\"],[0.3,\"#f1b6da\"],[0.4,\"#fde0ef\"],[0.5,\"#f7f7f7\"],[0.6,\"#e6f5d0\"],[0.7,\"#b8e186\"],[0.8,\"#7fbc41\"],[0.9,\"#4d9221\"],[1,\"#276419\"]],\"sequential\":[[0.0,\"#0d0887\"],[0.1111111111111111,\"#46039f\"],[0.2222222222222222,\"#7201a8\"],[0.3333333333333333,\"#9c179e\"],[0.4444444444444444,\"#bd3786\"],[0.5555555555555556,\"#d8576b\"],[0.6666666666666666,\"#ed7953\"],[0.7777777777777778,\"#fb9f3a\"],[0.8888888888888888,\"#fdca26\"],[1.0,\"#f0f921\"]],\"sequentialminus\":[[0.0,\"#0d0887\"],[0.1111111111111111,\"#46039f\"],[0.2222222222222222,\"#7201a8\"],[0.3333333333333333,\"#9c179e\"],[0.4444444444444444,\"#bd3786\"],[0.5555555555555556,\"#d8576b\"],[0.6666666666666666,\"#ed7953\"],[0.7777777777777778,\"#fb9f3a\"],[0.8888888888888888,\"#fdca26\"],[1.0,\"#f0f921\"]]},\"colorway\":[\"#636efa\",\"#EF553B\",\"#00cc96\",\"#ab63fa\",\"#FFA15A\",\"#19d3f3\",\"#FF6692\",\"#B6E880\",\"#FF97FF\",\"#FECB52\"],\"font\":{\"color\":\"#2a3f5f\"},\"geo\":{\"bgcolor\":\"white\",\"lakecolor\":\"white\",\"landcolor\":\"#E5ECF6\",\"showlakes\":true,\"showland\":true,\"subunitcolor\":\"white\"},\"hoverlabel\":{\"align\":\"left\"},\"hovermode\":\"closest\",\"mapbox\":{\"style\":\"light\"},\"paper_bgcolor\":\"white\",\"plot_bgcolor\":\"#E5ECF6\",\"polar\":{\"angularaxis\":{\"gridcolor\":\"white\",\"linecolor\":\"white\",\"ticks\":\"\"},\"bgcolor\":\"#E5ECF6\",\"radialaxis\":{\"gridcolor\":\"white\",\"linecolor\":\"white\",\"ticks\":\"\"}},\"scene\":{\"xaxis\":{\"backgroundcolor\":\"#E5ECF6\",\"gridcolor\":\"white\",\"gridwidth\":2,\"linecolor\":\"white\",\"showbackground\":true,\"ticks\":\"\",\"zerolinecolor\":\"white\"},\"yaxis\":{\"backgroundcolor\":\"#E5ECF6\",\"gridcolor\":\"white\",\"gridwidth\":2,\"linecolor\":\"white\",\"showbackground\":true,\"ticks\":\"\",\"zerolinecolor\":\"white\"},\"zaxis\":{\"backgroundcolor\":\"#E5ECF6\",\"gridcolor\":\"white\",\"gridwidth\":2,\"linecolor\":\"white\",\"showbackground\":true,\"ticks\":\"\",\"zerolinecolor\":\"white\"}},\"shapedefaults\":{\"line\":{\"color\":\"#2a3f5f\"}},\"ternary\":{\"aaxis\":{\"gridcolor\":\"white\",\"linecolor\":\"white\",\"ticks\":\"\"},\"baxis\":{\"gridcolor\":\"white\",\"linecolor\":\"white\",\"ticks\":\"\"},\"bgcolor\":\"#E5ECF6\",\"caxis\":{\"gridcolor\":\"white\",\"linecolor\":\"white\",\"ticks\":\"\"}},\"title\":{\"x\":0.05},\"xaxis\":{\"automargin\":true,\"gridcolor\":\"white\",\"linecolor\":\"white\",\"ticks\":\"\",\"title\":{\"standoff\":15},\"zerolinecolor\":\"white\",\"zerolinewidth\":2},\"yaxis\":{\"automargin\":true,\"gridcolor\":\"white\",\"linecolor\":\"white\",\"ticks\":\"\",\"title\":{\"standoff\":15},\"zerolinecolor\":\"white\",\"zerolinewidth\":2}}},\"xaxis\":{\"anchor\":\"y\",\"domain\":[0.0,1.0],\"title\":{\"text\":\"x\"}},\"yaxis\":{\"anchor\":\"x\",\"domain\":[0.0,1.0],\"title\":{\"text\":\"y\"}},\"legend\":{\"tracegroupgap\":0},\"margin\":{\"t\":60}},                        {\"responsive\": true}                    ).then(function(){\n",
       "                            \n",
       "var gd = document.getElementById('9e879c59-c989-49cd-ac79-4e8482796b65');\n",
       "var x = new MutationObserver(function (mutations, observer) {{\n",
       "        var display = window.getComputedStyle(gd).display;\n",
       "        if (!display || display === 'none') {{\n",
       "            console.log([gd, 'removed!']);\n",
       "            Plotly.purge(gd);\n",
       "            observer.disconnect();\n",
       "        }}\n",
       "}});\n",
       "\n",
       "// Listen for the removal of the full notebook cells\n",
       "var notebookContainer = gd.closest('#notebook-container');\n",
       "if (notebookContainer) {{\n",
       "    x.observe(notebookContainer, {childList: true});\n",
       "}}\n",
       "\n",
       "// Listen for the clearing of the current output cell\n",
       "var outputEl = gd.closest('.output');\n",
       "if (outputEl) {{\n",
       "    x.observe(outputEl, {childList: true});\n",
       "}}\n",
       "\n",
       "                        })                };                });            </script>        </div>"
      ]
     },
     "metadata": {},
     "output_type": "display_data"
    }
   ],
   "source": [
    "# Scatterplot of Ages of Personal Trainers\n",
    "scatter_df = pd.DataFrame()\n",
    "scatter_df['Personal_Trainer_Names'] = pd.read_sql_query('SELECT PT_Name from PERSONAL_TRAINER order by PT_DOB desc', connection)\n",
    "scatter_df['Personal_Trainer_Ages'] = pd.read_sql_query('SELECT DATE_FORMAT(FROM_DAYS(DATEDIFF(NOW(), PT_DOB)), \\'%Y\\') FROM Personal_Trainer order by PT_DOB desc', connection)\n",
    "scatter_df['Personal_Trainer_Ages'] = scatter_df['Personal_Trainer_Ages'].str.lstrip('0')\n",
    "fig = px.scatter(x=scatter_df['Personal_Trainer_Names'], y=scatter_df['Personal_Trainer_Ages'])\n",
    "fig.show()"
   ]
  },
  {
   "cell_type": "code",
   "execution_count": 94,
   "id": "824ba75a",
   "metadata": {},
   "outputs": [
    {
     "data": {
      "application/vnd.plotly.v1+json": {
       "config": {
        "plotlyServerURL": "https://plot.ly"
       },
       "data": [
        {
         "marker": {
          "color": [
           120,
           125,
           130,
           135,
           140,
           145,
           150,
           155,
           160,
           165
          ],
          "showscale": true,
          "size": [
           15,
           25,
           35,
           45,
           55,
           65,
           70,
           75,
           80,
           85
          ]
         },
         "mode": "markers",
         "type": "scatter",
         "x": [
          "Derek Abbotson",
          "Jacob Oram",
          "Doralynn Coatsworth",
          "Almeida DSouza",
          "Madan Lal",
          "Vicky Donnovan",
          "Erlich Bachmann",
          "Albie Morkel",
          "Tom Cruise",
          "Mike Tyson"
         ],
         "y": [
          "21",
          "31",
          "32",
          "21",
          "39",
          "24",
          "37",
          "20",
          "25",
          "33"
         ]
        }
       ],
       "layout": {
        "template": {
         "data": {
          "bar": [
           {
            "error_x": {
             "color": "#2a3f5f"
            },
            "error_y": {
             "color": "#2a3f5f"
            },
            "marker": {
             "line": {
              "color": "#E5ECF6",
              "width": 0.5
             },
             "pattern": {
              "fillmode": "overlay",
              "size": 10,
              "solidity": 0.2
             }
            },
            "type": "bar"
           }
          ],
          "barpolar": [
           {
            "marker": {
             "line": {
              "color": "#E5ECF6",
              "width": 0.5
             },
             "pattern": {
              "fillmode": "overlay",
              "size": 10,
              "solidity": 0.2
             }
            },
            "type": "barpolar"
           }
          ],
          "carpet": [
           {
            "aaxis": {
             "endlinecolor": "#2a3f5f",
             "gridcolor": "white",
             "linecolor": "white",
             "minorgridcolor": "white",
             "startlinecolor": "#2a3f5f"
            },
            "baxis": {
             "endlinecolor": "#2a3f5f",
             "gridcolor": "white",
             "linecolor": "white",
             "minorgridcolor": "white",
             "startlinecolor": "#2a3f5f"
            },
            "type": "carpet"
           }
          ],
          "choropleth": [
           {
            "colorbar": {
             "outlinewidth": 0,
             "ticks": ""
            },
            "type": "choropleth"
           }
          ],
          "contour": [
           {
            "colorbar": {
             "outlinewidth": 0,
             "ticks": ""
            },
            "colorscale": [
             [
              0,
              "#0d0887"
             ],
             [
              0.1111111111111111,
              "#46039f"
             ],
             [
              0.2222222222222222,
              "#7201a8"
             ],
             [
              0.3333333333333333,
              "#9c179e"
             ],
             [
              0.4444444444444444,
              "#bd3786"
             ],
             [
              0.5555555555555556,
              "#d8576b"
             ],
             [
              0.6666666666666666,
              "#ed7953"
             ],
             [
              0.7777777777777778,
              "#fb9f3a"
             ],
             [
              0.8888888888888888,
              "#fdca26"
             ],
             [
              1,
              "#f0f921"
             ]
            ],
            "type": "contour"
           }
          ],
          "contourcarpet": [
           {
            "colorbar": {
             "outlinewidth": 0,
             "ticks": ""
            },
            "type": "contourcarpet"
           }
          ],
          "heatmap": [
           {
            "colorbar": {
             "outlinewidth": 0,
             "ticks": ""
            },
            "colorscale": [
             [
              0,
              "#0d0887"
             ],
             [
              0.1111111111111111,
              "#46039f"
             ],
             [
              0.2222222222222222,
              "#7201a8"
             ],
             [
              0.3333333333333333,
              "#9c179e"
             ],
             [
              0.4444444444444444,
              "#bd3786"
             ],
             [
              0.5555555555555556,
              "#d8576b"
             ],
             [
              0.6666666666666666,
              "#ed7953"
             ],
             [
              0.7777777777777778,
              "#fb9f3a"
             ],
             [
              0.8888888888888888,
              "#fdca26"
             ],
             [
              1,
              "#f0f921"
             ]
            ],
            "type": "heatmap"
           }
          ],
          "heatmapgl": [
           {
            "colorbar": {
             "outlinewidth": 0,
             "ticks": ""
            },
            "colorscale": [
             [
              0,
              "#0d0887"
             ],
             [
              0.1111111111111111,
              "#46039f"
             ],
             [
              0.2222222222222222,
              "#7201a8"
             ],
             [
              0.3333333333333333,
              "#9c179e"
             ],
             [
              0.4444444444444444,
              "#bd3786"
             ],
             [
              0.5555555555555556,
              "#d8576b"
             ],
             [
              0.6666666666666666,
              "#ed7953"
             ],
             [
              0.7777777777777778,
              "#fb9f3a"
             ],
             [
              0.8888888888888888,
              "#fdca26"
             ],
             [
              1,
              "#f0f921"
             ]
            ],
            "type": "heatmapgl"
           }
          ],
          "histogram": [
           {
            "marker": {
             "pattern": {
              "fillmode": "overlay",
              "size": 10,
              "solidity": 0.2
             }
            },
            "type": "histogram"
           }
          ],
          "histogram2d": [
           {
            "colorbar": {
             "outlinewidth": 0,
             "ticks": ""
            },
            "colorscale": [
             [
              0,
              "#0d0887"
             ],
             [
              0.1111111111111111,
              "#46039f"
             ],
             [
              0.2222222222222222,
              "#7201a8"
             ],
             [
              0.3333333333333333,
              "#9c179e"
             ],
             [
              0.4444444444444444,
              "#bd3786"
             ],
             [
              0.5555555555555556,
              "#d8576b"
             ],
             [
              0.6666666666666666,
              "#ed7953"
             ],
             [
              0.7777777777777778,
              "#fb9f3a"
             ],
             [
              0.8888888888888888,
              "#fdca26"
             ],
             [
              1,
              "#f0f921"
             ]
            ],
            "type": "histogram2d"
           }
          ],
          "histogram2dcontour": [
           {
            "colorbar": {
             "outlinewidth": 0,
             "ticks": ""
            },
            "colorscale": [
             [
              0,
              "#0d0887"
             ],
             [
              0.1111111111111111,
              "#46039f"
             ],
             [
              0.2222222222222222,
              "#7201a8"
             ],
             [
              0.3333333333333333,
              "#9c179e"
             ],
             [
              0.4444444444444444,
              "#bd3786"
             ],
             [
              0.5555555555555556,
              "#d8576b"
             ],
             [
              0.6666666666666666,
              "#ed7953"
             ],
             [
              0.7777777777777778,
              "#fb9f3a"
             ],
             [
              0.8888888888888888,
              "#fdca26"
             ],
             [
              1,
              "#f0f921"
             ]
            ],
            "type": "histogram2dcontour"
           }
          ],
          "mesh3d": [
           {
            "colorbar": {
             "outlinewidth": 0,
             "ticks": ""
            },
            "type": "mesh3d"
           }
          ],
          "parcoords": [
           {
            "line": {
             "colorbar": {
              "outlinewidth": 0,
              "ticks": ""
             }
            },
            "type": "parcoords"
           }
          ],
          "pie": [
           {
            "automargin": true,
            "type": "pie"
           }
          ],
          "scatter": [
           {
            "marker": {
             "colorbar": {
              "outlinewidth": 0,
              "ticks": ""
             }
            },
            "type": "scatter"
           }
          ],
          "scatter3d": [
           {
            "line": {
             "colorbar": {
              "outlinewidth": 0,
              "ticks": ""
             }
            },
            "marker": {
             "colorbar": {
              "outlinewidth": 0,
              "ticks": ""
             }
            },
            "type": "scatter3d"
           }
          ],
          "scattercarpet": [
           {
            "marker": {
             "colorbar": {
              "outlinewidth": 0,
              "ticks": ""
             }
            },
            "type": "scattercarpet"
           }
          ],
          "scattergeo": [
           {
            "marker": {
             "colorbar": {
              "outlinewidth": 0,
              "ticks": ""
             }
            },
            "type": "scattergeo"
           }
          ],
          "scattergl": [
           {
            "marker": {
             "colorbar": {
              "outlinewidth": 0,
              "ticks": ""
             }
            },
            "type": "scattergl"
           }
          ],
          "scattermapbox": [
           {
            "marker": {
             "colorbar": {
              "outlinewidth": 0,
              "ticks": ""
             }
            },
            "type": "scattermapbox"
           }
          ],
          "scatterpolar": [
           {
            "marker": {
             "colorbar": {
              "outlinewidth": 0,
              "ticks": ""
             }
            },
            "type": "scatterpolar"
           }
          ],
          "scatterpolargl": [
           {
            "marker": {
             "colorbar": {
              "outlinewidth": 0,
              "ticks": ""
             }
            },
            "type": "scatterpolargl"
           }
          ],
          "scatterternary": [
           {
            "marker": {
             "colorbar": {
              "outlinewidth": 0,
              "ticks": ""
             }
            },
            "type": "scatterternary"
           }
          ],
          "surface": [
           {
            "colorbar": {
             "outlinewidth": 0,
             "ticks": ""
            },
            "colorscale": [
             [
              0,
              "#0d0887"
             ],
             [
              0.1111111111111111,
              "#46039f"
             ],
             [
              0.2222222222222222,
              "#7201a8"
             ],
             [
              0.3333333333333333,
              "#9c179e"
             ],
             [
              0.4444444444444444,
              "#bd3786"
             ],
             [
              0.5555555555555556,
              "#d8576b"
             ],
             [
              0.6666666666666666,
              "#ed7953"
             ],
             [
              0.7777777777777778,
              "#fb9f3a"
             ],
             [
              0.8888888888888888,
              "#fdca26"
             ],
             [
              1,
              "#f0f921"
             ]
            ],
            "type": "surface"
           }
          ],
          "table": [
           {
            "cells": {
             "fill": {
              "color": "#EBF0F8"
             },
             "line": {
              "color": "white"
             }
            },
            "header": {
             "fill": {
              "color": "#C8D4E3"
             },
             "line": {
              "color": "white"
             }
            },
            "type": "table"
           }
          ]
         },
         "layout": {
          "annotationdefaults": {
           "arrowcolor": "#2a3f5f",
           "arrowhead": 0,
           "arrowwidth": 1
          },
          "autotypenumbers": "strict",
          "coloraxis": {
           "colorbar": {
            "outlinewidth": 0,
            "ticks": ""
           }
          },
          "colorscale": {
           "diverging": [
            [
             0,
             "#8e0152"
            ],
            [
             0.1,
             "#c51b7d"
            ],
            [
             0.2,
             "#de77ae"
            ],
            [
             0.3,
             "#f1b6da"
            ],
            [
             0.4,
             "#fde0ef"
            ],
            [
             0.5,
             "#f7f7f7"
            ],
            [
             0.6,
             "#e6f5d0"
            ],
            [
             0.7,
             "#b8e186"
            ],
            [
             0.8,
             "#7fbc41"
            ],
            [
             0.9,
             "#4d9221"
            ],
            [
             1,
             "#276419"
            ]
           ],
           "sequential": [
            [
             0,
             "#0d0887"
            ],
            [
             0.1111111111111111,
             "#46039f"
            ],
            [
             0.2222222222222222,
             "#7201a8"
            ],
            [
             0.3333333333333333,
             "#9c179e"
            ],
            [
             0.4444444444444444,
             "#bd3786"
            ],
            [
             0.5555555555555556,
             "#d8576b"
            ],
            [
             0.6666666666666666,
             "#ed7953"
            ],
            [
             0.7777777777777778,
             "#fb9f3a"
            ],
            [
             0.8888888888888888,
             "#fdca26"
            ],
            [
             1,
             "#f0f921"
            ]
           ],
           "sequentialminus": [
            [
             0,
             "#0d0887"
            ],
            [
             0.1111111111111111,
             "#46039f"
            ],
            [
             0.2222222222222222,
             "#7201a8"
            ],
            [
             0.3333333333333333,
             "#9c179e"
            ],
            [
             0.4444444444444444,
             "#bd3786"
            ],
            [
             0.5555555555555556,
             "#d8576b"
            ],
            [
             0.6666666666666666,
             "#ed7953"
            ],
            [
             0.7777777777777778,
             "#fb9f3a"
            ],
            [
             0.8888888888888888,
             "#fdca26"
            ],
            [
             1,
             "#f0f921"
            ]
           ]
          },
          "colorway": [
           "#636efa",
           "#EF553B",
           "#00cc96",
           "#ab63fa",
           "#FFA15A",
           "#19d3f3",
           "#FF6692",
           "#B6E880",
           "#FF97FF",
           "#FECB52"
          ],
          "font": {
           "color": "#2a3f5f"
          },
          "geo": {
           "bgcolor": "white",
           "lakecolor": "white",
           "landcolor": "#E5ECF6",
           "showlakes": true,
           "showland": true,
           "subunitcolor": "white"
          },
          "hoverlabel": {
           "align": "left"
          },
          "hovermode": "closest",
          "mapbox": {
           "style": "light"
          },
          "paper_bgcolor": "white",
          "plot_bgcolor": "#E5ECF6",
          "polar": {
           "angularaxis": {
            "gridcolor": "white",
            "linecolor": "white",
            "ticks": ""
           },
           "bgcolor": "#E5ECF6",
           "radialaxis": {
            "gridcolor": "white",
            "linecolor": "white",
            "ticks": ""
           }
          },
          "scene": {
           "xaxis": {
            "backgroundcolor": "#E5ECF6",
            "gridcolor": "white",
            "gridwidth": 2,
            "linecolor": "white",
            "showbackground": true,
            "ticks": "",
            "zerolinecolor": "white"
           },
           "yaxis": {
            "backgroundcolor": "#E5ECF6",
            "gridcolor": "white",
            "gridwidth": 2,
            "linecolor": "white",
            "showbackground": true,
            "ticks": "",
            "zerolinecolor": "white"
           },
           "zaxis": {
            "backgroundcolor": "#E5ECF6",
            "gridcolor": "white",
            "gridwidth": 2,
            "linecolor": "white",
            "showbackground": true,
            "ticks": "",
            "zerolinecolor": "white"
           }
          },
          "shapedefaults": {
           "line": {
            "color": "#2a3f5f"
           }
          },
          "ternary": {
           "aaxis": {
            "gridcolor": "white",
            "linecolor": "white",
            "ticks": ""
           },
           "baxis": {
            "gridcolor": "white",
            "linecolor": "white",
            "ticks": ""
           },
           "bgcolor": "#E5ECF6",
           "caxis": {
            "gridcolor": "white",
            "linecolor": "white",
            "ticks": ""
           }
          },
          "title": {
           "x": 0.05
          },
          "xaxis": {
           "automargin": true,
           "gridcolor": "white",
           "linecolor": "white",
           "ticks": "",
           "title": {
            "standoff": 15
           },
           "zerolinecolor": "white",
           "zerolinewidth": 2
          },
          "yaxis": {
           "automargin": true,
           "gridcolor": "white",
           "linecolor": "white",
           "ticks": "",
           "title": {
            "standoff": 15
           },
           "zerolinecolor": "white",
           "zerolinewidth": 2
          }
         }
        }
       }
      },
      "text/html": [
       "<div>                            <div id=\"9f7e7dbf-2e90-4c41-b0f1-1f17025e3af6\" class=\"plotly-graph-div\" style=\"height:525px; width:100%;\"></div>            <script type=\"text/javascript\">                require([\"plotly\"], function(Plotly) {                    window.PLOTLYENV=window.PLOTLYENV || {};                                    if (document.getElementById(\"9f7e7dbf-2e90-4c41-b0f1-1f17025e3af6\")) {                    Plotly.newPlot(                        \"9f7e7dbf-2e90-4c41-b0f1-1f17025e3af6\",                        [{\"marker\":{\"color\":[120,125,130,135,140,145,150,155,160,165],\"showscale\":true,\"size\":[15,25,35,45,55,65,70,75,80,85]},\"mode\":\"markers\",\"x\":[\"Derek Abbotson\",\"Jacob Oram\",\"Doralynn Coatsworth\",\"Almeida DSouza\",\"Madan Lal\",\"Vicky Donnovan\",\"Erlich Bachmann\",\"Albie Morkel\",\"Tom Cruise\",\"Mike Tyson\"],\"y\":[\"21\",\"31\",\"32\",\"21\",\"39\",\"24\",\"37\",\"20\",\"25\",\"33\"],\"type\":\"scatter\"}],                        {\"template\":{\"data\":{\"bar\":[{\"error_x\":{\"color\":\"#2a3f5f\"},\"error_y\":{\"color\":\"#2a3f5f\"},\"marker\":{\"line\":{\"color\":\"#E5ECF6\",\"width\":0.5},\"pattern\":{\"fillmode\":\"overlay\",\"size\":10,\"solidity\":0.2}},\"type\":\"bar\"}],\"barpolar\":[{\"marker\":{\"line\":{\"color\":\"#E5ECF6\",\"width\":0.5},\"pattern\":{\"fillmode\":\"overlay\",\"size\":10,\"solidity\":0.2}},\"type\":\"barpolar\"}],\"carpet\":[{\"aaxis\":{\"endlinecolor\":\"#2a3f5f\",\"gridcolor\":\"white\",\"linecolor\":\"white\",\"minorgridcolor\":\"white\",\"startlinecolor\":\"#2a3f5f\"},\"baxis\":{\"endlinecolor\":\"#2a3f5f\",\"gridcolor\":\"white\",\"linecolor\":\"white\",\"minorgridcolor\":\"white\",\"startlinecolor\":\"#2a3f5f\"},\"type\":\"carpet\"}],\"choropleth\":[{\"colorbar\":{\"outlinewidth\":0,\"ticks\":\"\"},\"type\":\"choropleth\"}],\"contour\":[{\"colorbar\":{\"outlinewidth\":0,\"ticks\":\"\"},\"colorscale\":[[0.0,\"#0d0887\"],[0.1111111111111111,\"#46039f\"],[0.2222222222222222,\"#7201a8\"],[0.3333333333333333,\"#9c179e\"],[0.4444444444444444,\"#bd3786\"],[0.5555555555555556,\"#d8576b\"],[0.6666666666666666,\"#ed7953\"],[0.7777777777777778,\"#fb9f3a\"],[0.8888888888888888,\"#fdca26\"],[1.0,\"#f0f921\"]],\"type\":\"contour\"}],\"contourcarpet\":[{\"colorbar\":{\"outlinewidth\":0,\"ticks\":\"\"},\"type\":\"contourcarpet\"}],\"heatmap\":[{\"colorbar\":{\"outlinewidth\":0,\"ticks\":\"\"},\"colorscale\":[[0.0,\"#0d0887\"],[0.1111111111111111,\"#46039f\"],[0.2222222222222222,\"#7201a8\"],[0.3333333333333333,\"#9c179e\"],[0.4444444444444444,\"#bd3786\"],[0.5555555555555556,\"#d8576b\"],[0.6666666666666666,\"#ed7953\"],[0.7777777777777778,\"#fb9f3a\"],[0.8888888888888888,\"#fdca26\"],[1.0,\"#f0f921\"]],\"type\":\"heatmap\"}],\"heatmapgl\":[{\"colorbar\":{\"outlinewidth\":0,\"ticks\":\"\"},\"colorscale\":[[0.0,\"#0d0887\"],[0.1111111111111111,\"#46039f\"],[0.2222222222222222,\"#7201a8\"],[0.3333333333333333,\"#9c179e\"],[0.4444444444444444,\"#bd3786\"],[0.5555555555555556,\"#d8576b\"],[0.6666666666666666,\"#ed7953\"],[0.7777777777777778,\"#fb9f3a\"],[0.8888888888888888,\"#fdca26\"],[1.0,\"#f0f921\"]],\"type\":\"heatmapgl\"}],\"histogram\":[{\"marker\":{\"pattern\":{\"fillmode\":\"overlay\",\"size\":10,\"solidity\":0.2}},\"type\":\"histogram\"}],\"histogram2d\":[{\"colorbar\":{\"outlinewidth\":0,\"ticks\":\"\"},\"colorscale\":[[0.0,\"#0d0887\"],[0.1111111111111111,\"#46039f\"],[0.2222222222222222,\"#7201a8\"],[0.3333333333333333,\"#9c179e\"],[0.4444444444444444,\"#bd3786\"],[0.5555555555555556,\"#d8576b\"],[0.6666666666666666,\"#ed7953\"],[0.7777777777777778,\"#fb9f3a\"],[0.8888888888888888,\"#fdca26\"],[1.0,\"#f0f921\"]],\"type\":\"histogram2d\"}],\"histogram2dcontour\":[{\"colorbar\":{\"outlinewidth\":0,\"ticks\":\"\"},\"colorscale\":[[0.0,\"#0d0887\"],[0.1111111111111111,\"#46039f\"],[0.2222222222222222,\"#7201a8\"],[0.3333333333333333,\"#9c179e\"],[0.4444444444444444,\"#bd3786\"],[0.5555555555555556,\"#d8576b\"],[0.6666666666666666,\"#ed7953\"],[0.7777777777777778,\"#fb9f3a\"],[0.8888888888888888,\"#fdca26\"],[1.0,\"#f0f921\"]],\"type\":\"histogram2dcontour\"}],\"mesh3d\":[{\"colorbar\":{\"outlinewidth\":0,\"ticks\":\"\"},\"type\":\"mesh3d\"}],\"parcoords\":[{\"line\":{\"colorbar\":{\"outlinewidth\":0,\"ticks\":\"\"}},\"type\":\"parcoords\"}],\"pie\":[{\"automargin\":true,\"type\":\"pie\"}],\"scatter\":[{\"marker\":{\"colorbar\":{\"outlinewidth\":0,\"ticks\":\"\"}},\"type\":\"scatter\"}],\"scatter3d\":[{\"line\":{\"colorbar\":{\"outlinewidth\":0,\"ticks\":\"\"}},\"marker\":{\"colorbar\":{\"outlinewidth\":0,\"ticks\":\"\"}},\"type\":\"scatter3d\"}],\"scattercarpet\":[{\"marker\":{\"colorbar\":{\"outlinewidth\":0,\"ticks\":\"\"}},\"type\":\"scattercarpet\"}],\"scattergeo\":[{\"marker\":{\"colorbar\":{\"outlinewidth\":0,\"ticks\":\"\"}},\"type\":\"scattergeo\"}],\"scattergl\":[{\"marker\":{\"colorbar\":{\"outlinewidth\":0,\"ticks\":\"\"}},\"type\":\"scattergl\"}],\"scattermapbox\":[{\"marker\":{\"colorbar\":{\"outlinewidth\":0,\"ticks\":\"\"}},\"type\":\"scattermapbox\"}],\"scatterpolar\":[{\"marker\":{\"colorbar\":{\"outlinewidth\":0,\"ticks\":\"\"}},\"type\":\"scatterpolar\"}],\"scatterpolargl\":[{\"marker\":{\"colorbar\":{\"outlinewidth\":0,\"ticks\":\"\"}},\"type\":\"scatterpolargl\"}],\"scatterternary\":[{\"marker\":{\"colorbar\":{\"outlinewidth\":0,\"ticks\":\"\"}},\"type\":\"scatterternary\"}],\"surface\":[{\"colorbar\":{\"outlinewidth\":0,\"ticks\":\"\"},\"colorscale\":[[0.0,\"#0d0887\"],[0.1111111111111111,\"#46039f\"],[0.2222222222222222,\"#7201a8\"],[0.3333333333333333,\"#9c179e\"],[0.4444444444444444,\"#bd3786\"],[0.5555555555555556,\"#d8576b\"],[0.6666666666666666,\"#ed7953\"],[0.7777777777777778,\"#fb9f3a\"],[0.8888888888888888,\"#fdca26\"],[1.0,\"#f0f921\"]],\"type\":\"surface\"}],\"table\":[{\"cells\":{\"fill\":{\"color\":\"#EBF0F8\"},\"line\":{\"color\":\"white\"}},\"header\":{\"fill\":{\"color\":\"#C8D4E3\"},\"line\":{\"color\":\"white\"}},\"type\":\"table\"}]},\"layout\":{\"annotationdefaults\":{\"arrowcolor\":\"#2a3f5f\",\"arrowhead\":0,\"arrowwidth\":1},\"autotypenumbers\":\"strict\",\"coloraxis\":{\"colorbar\":{\"outlinewidth\":0,\"ticks\":\"\"}},\"colorscale\":{\"diverging\":[[0,\"#8e0152\"],[0.1,\"#c51b7d\"],[0.2,\"#de77ae\"],[0.3,\"#f1b6da\"],[0.4,\"#fde0ef\"],[0.5,\"#f7f7f7\"],[0.6,\"#e6f5d0\"],[0.7,\"#b8e186\"],[0.8,\"#7fbc41\"],[0.9,\"#4d9221\"],[1,\"#276419\"]],\"sequential\":[[0.0,\"#0d0887\"],[0.1111111111111111,\"#46039f\"],[0.2222222222222222,\"#7201a8\"],[0.3333333333333333,\"#9c179e\"],[0.4444444444444444,\"#bd3786\"],[0.5555555555555556,\"#d8576b\"],[0.6666666666666666,\"#ed7953\"],[0.7777777777777778,\"#fb9f3a\"],[0.8888888888888888,\"#fdca26\"],[1.0,\"#f0f921\"]],\"sequentialminus\":[[0.0,\"#0d0887\"],[0.1111111111111111,\"#46039f\"],[0.2222222222222222,\"#7201a8\"],[0.3333333333333333,\"#9c179e\"],[0.4444444444444444,\"#bd3786\"],[0.5555555555555556,\"#d8576b\"],[0.6666666666666666,\"#ed7953\"],[0.7777777777777778,\"#fb9f3a\"],[0.8888888888888888,\"#fdca26\"],[1.0,\"#f0f921\"]]},\"colorway\":[\"#636efa\",\"#EF553B\",\"#00cc96\",\"#ab63fa\",\"#FFA15A\",\"#19d3f3\",\"#FF6692\",\"#B6E880\",\"#FF97FF\",\"#FECB52\"],\"font\":{\"color\":\"#2a3f5f\"},\"geo\":{\"bgcolor\":\"white\",\"lakecolor\":\"white\",\"landcolor\":\"#E5ECF6\",\"showlakes\":true,\"showland\":true,\"subunitcolor\":\"white\"},\"hoverlabel\":{\"align\":\"left\"},\"hovermode\":\"closest\",\"mapbox\":{\"style\":\"light\"},\"paper_bgcolor\":\"white\",\"plot_bgcolor\":\"#E5ECF6\",\"polar\":{\"angularaxis\":{\"gridcolor\":\"white\",\"linecolor\":\"white\",\"ticks\":\"\"},\"bgcolor\":\"#E5ECF6\",\"radialaxis\":{\"gridcolor\":\"white\",\"linecolor\":\"white\",\"ticks\":\"\"}},\"scene\":{\"xaxis\":{\"backgroundcolor\":\"#E5ECF6\",\"gridcolor\":\"white\",\"gridwidth\":2,\"linecolor\":\"white\",\"showbackground\":true,\"ticks\":\"\",\"zerolinecolor\":\"white\"},\"yaxis\":{\"backgroundcolor\":\"#E5ECF6\",\"gridcolor\":\"white\",\"gridwidth\":2,\"linecolor\":\"white\",\"showbackground\":true,\"ticks\":\"\",\"zerolinecolor\":\"white\"},\"zaxis\":{\"backgroundcolor\":\"#E5ECF6\",\"gridcolor\":\"white\",\"gridwidth\":2,\"linecolor\":\"white\",\"showbackground\":true,\"ticks\":\"\",\"zerolinecolor\":\"white\"}},\"shapedefaults\":{\"line\":{\"color\":\"#2a3f5f\"}},\"ternary\":{\"aaxis\":{\"gridcolor\":\"white\",\"linecolor\":\"white\",\"ticks\":\"\"},\"baxis\":{\"gridcolor\":\"white\",\"linecolor\":\"white\",\"ticks\":\"\"},\"bgcolor\":\"#E5ECF6\",\"caxis\":{\"gridcolor\":\"white\",\"linecolor\":\"white\",\"ticks\":\"\"}},\"title\":{\"x\":0.05},\"xaxis\":{\"automargin\":true,\"gridcolor\":\"white\",\"linecolor\":\"white\",\"ticks\":\"\",\"title\":{\"standoff\":15},\"zerolinecolor\":\"white\",\"zerolinewidth\":2},\"yaxis\":{\"automargin\":true,\"gridcolor\":\"white\",\"linecolor\":\"white\",\"ticks\":\"\",\"title\":{\"standoff\":15},\"zerolinecolor\":\"white\",\"zerolinewidth\":2}}}},                        {\"responsive\": true}                    ).then(function(){\n",
       "                            \n",
       "var gd = document.getElementById('9f7e7dbf-2e90-4c41-b0f1-1f17025e3af6');\n",
       "var x = new MutationObserver(function (mutations, observer) {{\n",
       "        var display = window.getComputedStyle(gd).display;\n",
       "        if (!display || display === 'none') {{\n",
       "            console.log([gd, 'removed!']);\n",
       "            Plotly.purge(gd);\n",
       "            observer.disconnect();\n",
       "        }}\n",
       "}});\n",
       "\n",
       "// Listen for the removal of the full notebook cells\n",
       "var notebookContainer = gd.closest('#notebook-container');\n",
       "if (notebookContainer) {{\n",
       "    x.observe(notebookContainer, {childList: true});\n",
       "}}\n",
       "\n",
       "// Listen for the clearing of the current output cell\n",
       "var outputEl = gd.closest('.output');\n",
       "if (outputEl) {{\n",
       "    x.observe(outputEl, {childList: true});\n",
       "}}\n",
       "\n",
       "                        })                };                });            </script>        </div>"
      ]
     },
     "metadata": {},
     "output_type": "display_data"
    }
   ],
   "source": [
    "# Bubble Chart of Ages of Finance Department Employees\n",
    "bubble_df = pd.DataFrame()\n",
    "bubble_df['Finance_Department_Names'] = pd.read_sql_query('SELECT FD_Emp_Name from FINANCE_DEPARTMENT', connection)\n",
    "bubble_df['Finance_Department_Ages'] = pd.read_sql_query('SELECT DATE_FORMAT(FROM_DAYS(DATEDIFF(NOW(), FD_Emp_DOB)), \\'%Y\\') FROM FINANCE_DEPARTMENT', connection)\n",
    "bubble_df['Finance_Department_Ages'] = bubble_df['Finance_Department_Ages'].str.lstrip('0')\n",
    "fig = go.Figure(data = [go.Scatter(x=bubble_df['Finance_Department_Names'],y=bubble_df['Finance_Department_Ages'], \n",
    "                                   mode='markers',\n",
    "    marker=dict(\n",
    "        color=[120, 125, 130, 135, 140, 145, 150, 155, 160, 165],\n",
    "        size=[15,25,35,45,55,65,70,75,80,85],\n",
    "        showscale=True\n",
    "        ))])\n",
    "fig.show()"
   ]
  }
 ],
 "metadata": {
  "kernelspec": {
   "display_name": "Python 3 (ipykernel)",
   "language": "python",
   "name": "python3"
  },
  "language_info": {
   "codemirror_mode": {
    "name": "ipython",
    "version": 3
   },
   "file_extension": ".py",
   "mimetype": "text/x-python",
   "name": "python",
   "nbconvert_exporter": "python",
   "pygments_lexer": "ipython3",
   "version": "3.9.12"
  }
 },
 "nbformat": 4,
 "nbformat_minor": 5
}
